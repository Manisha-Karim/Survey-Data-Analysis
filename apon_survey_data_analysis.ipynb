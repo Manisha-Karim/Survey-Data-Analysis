{
  "nbformat": 4,
  "nbformat_minor": 0,
  "metadata": {
    "colab": {
      "provenance": [],
      "collapsed_sections": [
        "Rm4TIG51GcTi",
        "x5PDrrVuHqL1"
      ],
      "authorship_tag": "ABX9TyN1CIf+2nbSl1pykjyoggKW",
      "include_colab_link": true
    },
    "kernelspec": {
      "name": "python3",
      "display_name": "Python 3"
    },
    "language_info": {
      "name": "python"
    }
  },
  "cells": [
    {
      "cell_type": "markdown",
      "metadata": {
        "id": "view-in-github",
        "colab_type": "text"
      },
      "source": [
        "<a href=\"https://colab.research.google.com/github/Manisha-Karim/Survey-Data-Analysis/blob/main/apon_survey_data_analysis.ipynb\" target=\"_parent\"><img src=\"https://colab.research.google.com/assets/colab-badge.svg\" alt=\"Open In Colab\"/></a>"
      ]
    },
    {
      "cell_type": "code",
      "execution_count": null,
      "metadata": {
        "colab": {
          "base_uri": "https://localhost:8080/"
        },
        "id": "L3Sf3X_J563J",
        "outputId": "31ff4770-c0bb-4ded-9d96-8dd48521e984"
      },
      "outputs": [
        {
          "output_type": "stream",
          "name": "stdout",
          "text": [
            "Mounted at /content/gdrive\n"
          ]
        }
      ],
      "source": [
        "from google.colab import drive\n",
        "drive.mount('/content/gdrive')\n"
      ]
    },
    {
      "cell_type": "code",
      "source": [
        "import numpy as np\n",
        "import pandas as pd\n",
        "import matplotlib\n",
        "import matplotlib.pyplot as plt\n",
        "import seaborn as sns"
      ],
      "metadata": {
        "id": "L74K0pV_6NC9"
      },
      "execution_count": null,
      "outputs": []
    },
    {
      "cell_type": "code",
      "source": [
        "df = pd.read_csv(\"/content/gdrive/MyDrive/apon/Apon Customer survey data - Sheet3.csv\" ,low_memory=False )"
      ],
      "metadata": {
        "id": "RQdBvquK6NEV"
      },
      "execution_count": null,
      "outputs": []
    },
    {
      "cell_type": "markdown",
      "source": [
        "# UNDERSTANDING THE DATA"
      ],
      "metadata": {
        "id": "Rm4TIG51GcTi"
      }
    },
    {
      "cell_type": "code",
      "source": [
        "df.head()"
      ],
      "metadata": {
        "colab": {
          "base_uri": "https://localhost:8080/",
          "height": 1000
        },
        "id": "MzgYMNr86NHP",
        "outputId": "2b979d43-2c1f-4b98-80eb-042d449d3dbf"
      },
      "execution_count": null,
      "outputs": [
        {
          "output_type": "execute_result",
          "data": {
            "text/plain": [
              "             Timestamp                    ১.১ ফ্যাক্টরি নাম   \\\n",
              "0  10/23/2022 17:07:23  Interfab Shirt Manufacturing Limited   \n",
              "1  10/23/2022 17:19:12                   Ananta Garments Ltd   \n",
              "2  10/24/2022 11:50:25  Interfab Shirt Manufacturing Limited   \n",
              "3  10/24/2022 13:47:45                            SQ Station   \n",
              "4  10/24/2022 17:32:56                            SQ Station   \n",
              "\n",
              "  ১.৩   অংশগ্রহণকারীর ফ্যাক্টরি আইডি  ১.৪ লিঙ্গ  ১.৫ বয়স  \\\n",
              "0                            ST0023\\t     পুরুষ       30   \n",
              "1                            GMUOP613     মহিলা       23   \n",
              "2                              st0017     পুরুষ       26   \n",
              "3                               34159     মহিলা       29   \n",
              "4                               39190     পুরুষ       24   \n",
              "\n",
              "  ১.৬ আপনি কি \"আপন\" সম্পর্কে জানেন? ১.৭ আপনি কি আপন থেকে কেনাকাটা করেন?  \\\n",
              "0                              হ্যা                                হ্যা   \n",
              "1                              হ্যা                                হ্যা   \n",
              "2                              হ্যা                                হ্যা   \n",
              "3                              হ্যা                                  না   \n",
              "4                              হ্যা                                হ্যা   \n",
              "\n",
              "                    ২.১ আপন সম্পর্কে আপনি কি জানেন?   \\\n",
              "0                 আমাদের ফ্যাক্টরির মধ্যে একটি দোকান   \n",
              "1  আমাদের ফ্যাক্টরির মধ্যে একটি দোকান, নিত্য প্রয়...   \n",
              "2  আমাদের ফ্যাক্টরির মধ্যে একটি দোকান, নিত্য প্রয়...   \n",
              "3                                                NaN   \n",
              "4  নিত্য প্রয়োজনীয় অনেক পণ্য পাওয়া যায়   এমন দোকা...   \n",
              "\n",
              "  ২.২ আপনি কি জানেন যে, আপন বাকিতে বিক্রি করে ?   \\\n",
              "0                                           হ্যা   \n",
              "1                                           হ্যা   \n",
              "2                                           হ্যা   \n",
              "3                                            NaN   \n",
              "4                                           হ্যা   \n",
              "\n",
              "  ২.৩ আপনি কি বাকি নিতে পারেন আপন শপ থেকে?   ...  \\\n",
              "0                                      হ্যা  ...   \n",
              "1                                      হ্যা  ...   \n",
              "2                                      হ্যা  ...   \n",
              "3                                       NaN  ...   \n",
              "4                                      হ্যা  ...   \n",
              "\n",
              "                 ২.৬  আপন থেকে আপনি কেন বাজার করেন?   \\\n",
              "0                                 ছাড়ের সুবিধার জন্য   \n",
              "1  গুনগত মান ভালো পন্যের  জন্য, ছাড়ের সুবিধার জন্...   \n",
              "2  ছাড়ের সুবিধার জন্য, আপন থেকে বাকিতে কেনার সুযো...   \n",
              "3                                                NaN   \n",
              "4  গুনগত মান ভালো পন্যের  জন্য, ছাড়ের সুবিধার জন্...   \n",
              "\n",
              "          ২.৭ আপন থেকে আপনি কি কি পণ্য কিনতে চান?     \\\n",
              "0                        নিত্যপ্রয়োজনীয় খাবার (Food)   \n",
              "1                        নিত্যপ্রয়োজনীয় খাবার (Food)   \n",
              "2                        নিত্যপ্রয়োজনীয় খাবার (Food)   \n",
              "3                                                NaN   \n",
              "4  স্বাস্থ্য এবং সৌন্দর্য সম্পর্কিত (Beauty and H...   \n",
              "\n",
              "  ২.৮ আপন থেকে বাজার করার অভিজ্ঞতা কেমন?  (১-৫ এর মধ্যে নির্বাচন করুন,৫ সব চেয়ে  ভালো , ১ সব চেয়ে খারাপ)    \\\n",
              "0                                                3.0                                                         \n",
              "1                                                5.0                                                         \n",
              "2                                                4.0                                                         \n",
              "3                                                NaN                                                         \n",
              "4                                                4.0                                                         \n",
              "\n",
              "  ২.৯  কেন আপন থেকে  কিনেন না?   \\\n",
              "0                  কম পন্য থাকে   \n",
              "1                  কম পন্য থাকে   \n",
              "2                  কম পন্য থাকে   \n",
              "3                           NaN   \n",
              "4                  কম পন্য থাকে   \n",
              "\n",
              "   ২.১০  আপনি যদি আপন থেকে পন্য না কিনে থাকেন, তাহলে কোথা থেকে কিনেন?   \\\n",
              "0                                  পরিচিত দোকান থেকে                     \n",
              "1    পরিচিত দোকান থেকে, যে দোকান থেকে বাকি নিতে পারি                     \n",
              "2                                  পরিচিত দোকান থেকে                     \n",
              "3                                                NaN                     \n",
              "4                       যে দোকান থেকে বাকি নিতে পারি                     \n",
              "\n",
              "  ৩.১   কেন আপন থেকে  কিনেন না?   \\\n",
              "0                            NaN   \n",
              "1                            NaN   \n",
              "2                            NaN   \n",
              "3                   কম পন্য থাকে   \n",
              "4                            NaN   \n",
              "\n",
              "  ৩.২ আপনি যদি আপন থেকে পন্য না কিনে থাকেন, তাহলে কোথা থেকে কিনেন?   \\\n",
              "0                                                NaN                  \n",
              "1                                                NaN                  \n",
              "2                                                NaN                  \n",
              "3                                  পরিচিত দোকান থেকে                  \n",
              "4                                                NaN                  \n",
              "\n",
              "  ৩.৩  আপন শপে বাজার করলে আপনি নিচের সুবিধাগুলো পাবেন। কোন দুটি কারনে আপনি বাজার করবেন বলে মনে করছেন?   \\\n",
              "0                                                NaN                                                     \n",
              "1  ছাড়ের সুবিধার জন্য, আমার সময় বাঁচবে বলে মনে কর...                                                     \n",
              "2  ছাড়ের সুবিধার জন্য, ইন্সুরেন্স পাওয়া যায় এই  জন্য                                                     \n",
              "3  গুনগত মান ভালো পন্যের  জন্য, আপন থেকে বাকিতে ক...                                                     \n",
              "4                                                NaN                                                     \n",
              "\n",
              "  সাক্ষাতকার গ্রহনকারীর নাম       তারিখ   \n",
              "0                        NaN         NaN  \n",
              "1         Md. Anisur Rahaman  10/23/2022  \n",
              "2                 ভিন্সেন্ট   10/24/2022  \n",
              "3          Md. Rahanul Islam  10/24/2022  \n",
              "4     Md. Rahanul Islam Roni  10/24/2022  \n",
              "\n",
              "[5 rows x 22 columns]"
            ],
            "text/html": [
              "\n",
              "  <div id=\"df-2f424971-0c7a-4855-829f-5ffe5e1032c8\">\n",
              "    <div class=\"colab-df-container\">\n",
              "      <div>\n",
              "<style scoped>\n",
              "    .dataframe tbody tr th:only-of-type {\n",
              "        vertical-align: middle;\n",
              "    }\n",
              "\n",
              "    .dataframe tbody tr th {\n",
              "        vertical-align: top;\n",
              "    }\n",
              "\n",
              "    .dataframe thead th {\n",
              "        text-align: right;\n",
              "    }\n",
              "</style>\n",
              "<table border=\"1\" class=\"dataframe\">\n",
              "  <thead>\n",
              "    <tr style=\"text-align: right;\">\n",
              "      <th></th>\n",
              "      <th>Timestamp</th>\n",
              "      <th>১.১ ফ্যাক্টরি নাম</th>\n",
              "      <th>১.৩   অংশগ্রহণকারীর ফ্যাক্টরি আইডি</th>\n",
              "      <th>১.৪ লিঙ্গ</th>\n",
              "      <th>১.৫ বয়স</th>\n",
              "      <th>১.৬ আপনি কি \"আপন\" সম্পর্কে জানেন?</th>\n",
              "      <th>১.৭ আপনি কি আপন থেকে কেনাকাটা করেন?</th>\n",
              "      <th>২.১ আপন সম্পর্কে আপনি কি জানেন?</th>\n",
              "      <th>২.২ আপনি কি জানেন যে, আপন বাকিতে বিক্রি করে ?</th>\n",
              "      <th>২.৩ আপনি কি বাকি নিতে পারেন আপন শপ থেকে?</th>\n",
              "      <th>...</th>\n",
              "      <th>২.৬  আপন থেকে আপনি কেন বাজার করেন?</th>\n",
              "      <th>২.৭ আপন থেকে আপনি কি কি পণ্য কিনতে চান?</th>\n",
              "      <th>২.৮ আপন থেকে বাজার করার অভিজ্ঞতা কেমন?  (১-৫ এর মধ্যে নির্বাচন করুন,৫ সব চেয়ে  ভালো , ১ সব চেয়ে খারাপ)</th>\n",
              "      <th>২.৯  কেন আপন থেকে  কিনেন না?</th>\n",
              "      <th>২.১০  আপনি যদি আপন থেকে পন্য না কিনে থাকেন, তাহলে কোথা থেকে কিনেন?</th>\n",
              "      <th>৩.১   কেন আপন থেকে  কিনেন না?</th>\n",
              "      <th>৩.২ আপনি যদি আপন থেকে পন্য না কিনে থাকেন, তাহলে কোথা থেকে কিনেন?</th>\n",
              "      <th>৩.৩  আপন শপে বাজার করলে আপনি নিচের সুবিধাগুলো পাবেন। কোন দুটি কারনে আপনি বাজার করবেন বলে মনে করছেন?</th>\n",
              "      <th>সাক্ষাতকার গ্রহনকারীর নাম</th>\n",
              "      <th>তারিখ</th>\n",
              "    </tr>\n",
              "  </thead>\n",
              "  <tbody>\n",
              "    <tr>\n",
              "      <th>0</th>\n",
              "      <td>10/23/2022 17:07:23</td>\n",
              "      <td>Interfab Shirt Manufacturing Limited</td>\n",
              "      <td>ST0023\\t</td>\n",
              "      <td>পুরুষ</td>\n",
              "      <td>30</td>\n",
              "      <td>হ্যা</td>\n",
              "      <td>হ্যা</td>\n",
              "      <td>আমাদের ফ্যাক্টরির মধ্যে একটি দোকান</td>\n",
              "      <td>হ্যা</td>\n",
              "      <td>হ্যা</td>\n",
              "      <td>...</td>\n",
              "      <td>ছাড়ের সুবিধার জন্য</td>\n",
              "      <td>নিত্যপ্রয়োজনীয় খাবার (Food)</td>\n",
              "      <td>3.0</td>\n",
              "      <td>কম পন্য থাকে</td>\n",
              "      <td>পরিচিত দোকান থেকে</td>\n",
              "      <td>NaN</td>\n",
              "      <td>NaN</td>\n",
              "      <td>NaN</td>\n",
              "      <td>NaN</td>\n",
              "      <td>NaN</td>\n",
              "    </tr>\n",
              "    <tr>\n",
              "      <th>1</th>\n",
              "      <td>10/23/2022 17:19:12</td>\n",
              "      <td>Ananta Garments Ltd</td>\n",
              "      <td>GMUOP613</td>\n",
              "      <td>মহিলা</td>\n",
              "      <td>23</td>\n",
              "      <td>হ্যা</td>\n",
              "      <td>হ্যা</td>\n",
              "      <td>আমাদের ফ্যাক্টরির মধ্যে একটি দোকান, নিত্য প্রয়...</td>\n",
              "      <td>হ্যা</td>\n",
              "      <td>হ্যা</td>\n",
              "      <td>...</td>\n",
              "      <td>গুনগত মান ভালো পন্যের  জন্য, ছাড়ের সুবিধার জন্...</td>\n",
              "      <td>নিত্যপ্রয়োজনীয় খাবার (Food)</td>\n",
              "      <td>5.0</td>\n",
              "      <td>কম পন্য থাকে</td>\n",
              "      <td>পরিচিত দোকান থেকে, যে দোকান থেকে বাকি নিতে পারি</td>\n",
              "      <td>NaN</td>\n",
              "      <td>NaN</td>\n",
              "      <td>ছাড়ের সুবিধার জন্য, আমার সময় বাঁচবে বলে মনে কর...</td>\n",
              "      <td>Md. Anisur Rahaman</td>\n",
              "      <td>10/23/2022</td>\n",
              "    </tr>\n",
              "    <tr>\n",
              "      <th>2</th>\n",
              "      <td>10/24/2022 11:50:25</td>\n",
              "      <td>Interfab Shirt Manufacturing Limited</td>\n",
              "      <td>st0017</td>\n",
              "      <td>পুরুষ</td>\n",
              "      <td>26</td>\n",
              "      <td>হ্যা</td>\n",
              "      <td>হ্যা</td>\n",
              "      <td>আমাদের ফ্যাক্টরির মধ্যে একটি দোকান, নিত্য প্রয়...</td>\n",
              "      <td>হ্যা</td>\n",
              "      <td>হ্যা</td>\n",
              "      <td>...</td>\n",
              "      <td>ছাড়ের সুবিধার জন্য, আপন থেকে বাকিতে কেনার সুযো...</td>\n",
              "      <td>নিত্যপ্রয়োজনীয় খাবার (Food)</td>\n",
              "      <td>4.0</td>\n",
              "      <td>কম পন্য থাকে</td>\n",
              "      <td>পরিচিত দোকান থেকে</td>\n",
              "      <td>NaN</td>\n",
              "      <td>NaN</td>\n",
              "      <td>ছাড়ের সুবিধার জন্য, ইন্সুরেন্স পাওয়া যায় এই  জন্য</td>\n",
              "      <td>ভিন্সেন্ট</td>\n",
              "      <td>10/24/2022</td>\n",
              "    </tr>\n",
              "    <tr>\n",
              "      <th>3</th>\n",
              "      <td>10/24/2022 13:47:45</td>\n",
              "      <td>SQ Station</td>\n",
              "      <td>34159</td>\n",
              "      <td>মহিলা</td>\n",
              "      <td>29</td>\n",
              "      <td>হ্যা</td>\n",
              "      <td>না</td>\n",
              "      <td>NaN</td>\n",
              "      <td>NaN</td>\n",
              "      <td>NaN</td>\n",
              "      <td>...</td>\n",
              "      <td>NaN</td>\n",
              "      <td>NaN</td>\n",
              "      <td>NaN</td>\n",
              "      <td>NaN</td>\n",
              "      <td>NaN</td>\n",
              "      <td>কম পন্য থাকে</td>\n",
              "      <td>পরিচিত দোকান থেকে</td>\n",
              "      <td>গুনগত মান ভালো পন্যের  জন্য, আপন থেকে বাকিতে ক...</td>\n",
              "      <td>Md. Rahanul Islam</td>\n",
              "      <td>10/24/2022</td>\n",
              "    </tr>\n",
              "    <tr>\n",
              "      <th>4</th>\n",
              "      <td>10/24/2022 17:32:56</td>\n",
              "      <td>SQ Station</td>\n",
              "      <td>39190</td>\n",
              "      <td>পুরুষ</td>\n",
              "      <td>24</td>\n",
              "      <td>হ্যা</td>\n",
              "      <td>হ্যা</td>\n",
              "      <td>নিত্য প্রয়োজনীয় অনেক পণ্য পাওয়া যায়   এমন দোকা...</td>\n",
              "      <td>হ্যা</td>\n",
              "      <td>হ্যা</td>\n",
              "      <td>...</td>\n",
              "      <td>গুনগত মান ভালো পন্যের  জন্য, ছাড়ের সুবিধার জন্...</td>\n",
              "      <td>স্বাস্থ্য এবং সৌন্দর্য সম্পর্কিত (Beauty and H...</td>\n",
              "      <td>4.0</td>\n",
              "      <td>কম পন্য থাকে</td>\n",
              "      <td>যে দোকান থেকে বাকি নিতে পারি</td>\n",
              "      <td>NaN</td>\n",
              "      <td>NaN</td>\n",
              "      <td>NaN</td>\n",
              "      <td>Md. Rahanul Islam Roni</td>\n",
              "      <td>10/24/2022</td>\n",
              "    </tr>\n",
              "  </tbody>\n",
              "</table>\n",
              "<p>5 rows × 22 columns</p>\n",
              "</div>\n",
              "      <button class=\"colab-df-convert\" onclick=\"convertToInteractive('df-2f424971-0c7a-4855-829f-5ffe5e1032c8')\"\n",
              "              title=\"Convert this dataframe to an interactive table.\"\n",
              "              style=\"display:none;\">\n",
              "        \n",
              "  <svg xmlns=\"http://www.w3.org/2000/svg\" height=\"24px\"viewBox=\"0 0 24 24\"\n",
              "       width=\"24px\">\n",
              "    <path d=\"M0 0h24v24H0V0z\" fill=\"none\"/>\n",
              "    <path d=\"M18.56 5.44l.94 2.06.94-2.06 2.06-.94-2.06-.94-.94-2.06-.94 2.06-2.06.94zm-11 1L8.5 8.5l.94-2.06 2.06-.94-2.06-.94L8.5 2.5l-.94 2.06-2.06.94zm10 10l.94 2.06.94-2.06 2.06-.94-2.06-.94-.94-2.06-.94 2.06-2.06.94z\"/><path d=\"M17.41 7.96l-1.37-1.37c-.4-.4-.92-.59-1.43-.59-.52 0-1.04.2-1.43.59L10.3 9.45l-7.72 7.72c-.78.78-.78 2.05 0 2.83L4 21.41c.39.39.9.59 1.41.59.51 0 1.02-.2 1.41-.59l7.78-7.78 2.81-2.81c.8-.78.8-2.07 0-2.86zM5.41 20L4 18.59l7.72-7.72 1.47 1.35L5.41 20z\"/>\n",
              "  </svg>\n",
              "      </button>\n",
              "      \n",
              "  <style>\n",
              "    .colab-df-container {\n",
              "      display:flex;\n",
              "      flex-wrap:wrap;\n",
              "      gap: 12px;\n",
              "    }\n",
              "\n",
              "    .colab-df-convert {\n",
              "      background-color: #E8F0FE;\n",
              "      border: none;\n",
              "      border-radius: 50%;\n",
              "      cursor: pointer;\n",
              "      display: none;\n",
              "      fill: #1967D2;\n",
              "      height: 32px;\n",
              "      padding: 0 0 0 0;\n",
              "      width: 32px;\n",
              "    }\n",
              "\n",
              "    .colab-df-convert:hover {\n",
              "      background-color: #E2EBFA;\n",
              "      box-shadow: 0px 1px 2px rgba(60, 64, 67, 0.3), 0px 1px 3px 1px rgba(60, 64, 67, 0.15);\n",
              "      fill: #174EA6;\n",
              "    }\n",
              "\n",
              "    [theme=dark] .colab-df-convert {\n",
              "      background-color: #3B4455;\n",
              "      fill: #D2E3FC;\n",
              "    }\n",
              "\n",
              "    [theme=dark] .colab-df-convert:hover {\n",
              "      background-color: #434B5C;\n",
              "      box-shadow: 0px 1px 3px 1px rgba(0, 0, 0, 0.15);\n",
              "      filter: drop-shadow(0px 1px 2px rgba(0, 0, 0, 0.3));\n",
              "      fill: #FFFFFF;\n",
              "    }\n",
              "  </style>\n",
              "\n",
              "      <script>\n",
              "        const buttonEl =\n",
              "          document.querySelector('#df-2f424971-0c7a-4855-829f-5ffe5e1032c8 button.colab-df-convert');\n",
              "        buttonEl.style.display =\n",
              "          google.colab.kernel.accessAllowed ? 'block' : 'none';\n",
              "\n",
              "        async function convertToInteractive(key) {\n",
              "          const element = document.querySelector('#df-2f424971-0c7a-4855-829f-5ffe5e1032c8');\n",
              "          const dataTable =\n",
              "            await google.colab.kernel.invokeFunction('convertToInteractive',\n",
              "                                                     [key], {});\n",
              "          if (!dataTable) return;\n",
              "\n",
              "          const docLinkHtml = 'Like what you see? Visit the ' +\n",
              "            '<a target=\"_blank\" href=https://colab.research.google.com/notebooks/data_table.ipynb>data table notebook</a>'\n",
              "            + ' to learn more about interactive tables.';\n",
              "          element.innerHTML = '';\n",
              "          dataTable['output_type'] = 'display_data';\n",
              "          await google.colab.output.renderOutput(dataTable, element);\n",
              "          const docLink = document.createElement('div');\n",
              "          docLink.innerHTML = docLinkHtml;\n",
              "          element.appendChild(docLink);\n",
              "        }\n",
              "      </script>\n",
              "    </div>\n",
              "  </div>\n",
              "  "
            ]
          },
          "metadata": {},
          "execution_count": 5
        }
      ]
    },
    {
      "cell_type": "code",
      "source": [
        "df.columns"
      ],
      "metadata": {
        "colab": {
          "base_uri": "https://localhost:8080/"
        },
        "id": "hzoHbLLq6NMa",
        "outputId": "8f228dcd-2606-4e69-c24c-95cc73e221ba"
      },
      "execution_count": null,
      "outputs": [
        {
          "output_type": "execute_result",
          "data": {
            "text/plain": [
              "Index(['Timestamp', '১.১ ফ্যাক্টরি নাম ',\n",
              "       '১.৩   অংশগ্রহণকারীর ফ্যাক্টরি আইডি ', '১.৪ লিঙ্গ', '১.৫ বয়স',\n",
              "       '১.৬ আপনি কি \"আপন\" সম্পর্কে জানেন?',\n",
              "       '১.৭ আপনি কি আপন থেকে কেনাকাটা করেন?',\n",
              "       '২.১ আপন সম্পর্কে আপনি কি জানেন? ',\n",
              "       '২.২ আপনি কি জানেন যে, আপন বাকিতে বিক্রি করে ? ',\n",
              "       '২.৩ আপনি কি বাকি নিতে পারেন আপন শপ থেকে? ',\n",
              "       '২.৪ আপনার ক্রেডিট লিমিট কত? ',\n",
              "       '২.৫ আপন থেকে আপনি কি নিয়মিত বাজার করেন?  ',\n",
              "       '২.৬  আপন থেকে আপনি কেন বাজার করেন? ',\n",
              "       '২.৭ আপন থেকে আপনি কি কি পণ্য কিনতে চান?   ',\n",
              "       '২.৮ আপন থেকে বাজার করার অভিজ্ঞতা কেমন?  (১-৫ এর মধ্যে নির্বাচন করুন,৫ সব চেয়ে  ভালো , ১ সব চেয়ে খারাপ)  ',\n",
              "       '২.৯  কেন আপন থেকে  কিনেন না? ',\n",
              "       '২.১০  আপনি যদি আপন থেকে পন্য না কিনে থাকেন, তাহলে কোথা থেকে কিনেন? ',\n",
              "       '৩.১   কেন আপন থেকে  কিনেন না? ',\n",
              "       '৩.২ আপনি যদি আপন থেকে পন্য না কিনে থাকেন, তাহলে কোথা থেকে কিনেন? ',\n",
              "       '৩.৩  আপন শপে বাজার করলে আপনি নিচের সুবিধাগুলো পাবেন। কোন দুটি কারনে আপনি বাজার করবেন বলে মনে করছেন? ',\n",
              "       'সাক্ষাতকার গ্রহনকারীর নাম ', 'তারিখ '],\n",
              "      dtype='object')"
            ]
          },
          "metadata": {},
          "execution_count": 6
        }
      ]
    },
    {
      "cell_type": "code",
      "source": [
        "df.info()"
      ],
      "metadata": {
        "colab": {
          "base_uri": "https://localhost:8080/"
        },
        "id": "HzQji_71SjMS",
        "outputId": "7b9ee921-0843-4051-b637-e767ffb2fcfc"
      },
      "execution_count": null,
      "outputs": [
        {
          "output_type": "stream",
          "name": "stdout",
          "text": [
            "<class 'pandas.core.frame.DataFrame'>\n",
            "RangeIndex: 961 entries, 0 to 960\n",
            "Data columns (total 22 columns):\n",
            " #   Column                                                                                                    Non-Null Count  Dtype  \n",
            "---  ------                                                                                                    --------------  -----  \n",
            " 0   Timestamp                                                                                                 961 non-null    object \n",
            " 1   ১.১ ফ্যাক্টরি নাম                                                                                         961 non-null    object \n",
            " 2   ১.৩   অংশগ্রহণকারীর ফ্যাক্টরি আইডি                                                                        961 non-null    object \n",
            " 3   ১.৪ লিঙ্গ                                                                                                 961 non-null    object \n",
            " 4   ১.৫ বয়স                                                                                                   961 non-null    int64  \n",
            " 5   ১.৬ আপনি কি \"আপন\" সম্পর্কে জানেন?                                                                         961 non-null    object \n",
            " 6   ১.৭ আপনি কি আপন থেকে কেনাকাটা করেন?                                                                       961 non-null    object \n",
            " 7   ২.১ আপন সম্পর্কে আপনি কি জানেন?                                                                           665 non-null    object \n",
            " 8   ২.২ আপনি কি জানেন যে, আপন বাকিতে বিক্রি করে ?                                                             665 non-null    object \n",
            " 9   ২.৩ আপনি কি বাকি নিতে পারেন আপন শপ থেকে?                                                                  665 non-null    object \n",
            " 10  ২.৪ আপনার ক্রেডিট লিমিট কত?                                                                               665 non-null    float64\n",
            " 11  ২.৫ আপন থেকে আপনি কি নিয়মিত বাজার করেন?                                                                   665 non-null    object \n",
            " 12  ২.৬  আপন থেকে আপনি কেন বাজার করেন?                                                                        665 non-null    object \n",
            " 13  ২.৭ আপন থেকে আপনি কি কি পণ্য কিনতে চান?                                                                   665 non-null    object \n",
            " 14  ২.৮ আপন থেকে বাজার করার অভিজ্ঞতা কেমন?  (১-৫ এর মধ্যে নির্বাচন করুন,৫ সব চেয়ে  ভালো , ১ সব চেয়ে খারাপ)    665 non-null    float64\n",
            " 15  ২.৯  কেন আপন থেকে  কিনেন না?                                                                              665 non-null    object \n",
            " 16  ২.১০  আপনি যদি আপন থেকে পন্য না কিনে থাকেন, তাহলে কোথা থেকে কিনেন?                                        665 non-null    object \n",
            " 17  ৩.১   কেন আপন থেকে  কিনেন না?                                                                             793 non-null    object \n",
            " 18  ৩.২ আপনি যদি আপন থেকে পন্য না কিনে থাকেন, তাহলে কোথা থেকে কিনেন?                                          791 non-null    object \n",
            " 19  ৩.৩  আপন শপে বাজার করলে আপনি নিচের সুবিধাগুলো পাবেন। কোন দুটি কারনে আপনি বাজার করবেন বলে মনে করছেন?       809 non-null    object \n",
            " 20  সাক্ষাতকার গ্রহনকারীর নাম                                                                                 951 non-null    object \n",
            " 21  তারিখ                                                                                                     955 non-null    object \n",
            "dtypes: float64(2), int64(1), object(19)\n",
            "memory usage: 165.3+ KB\n"
          ]
        }
      ]
    },
    {
      "cell_type": "code",
      "source": [
        "len(df)"
      ],
      "metadata": {
        "colab": {
          "base_uri": "https://localhost:8080/"
        },
        "id": "mcH7BKzoSxUM",
        "outputId": "b7339ea9-ea8a-4054-df32-d2bdec5c492a"
      },
      "execution_count": null,
      "outputs": [
        {
          "output_type": "execute_result",
          "data": {
            "text/plain": [
              "961"
            ]
          },
          "metadata": {},
          "execution_count": 8
        }
      ]
    },
    {
      "cell_type": "markdown",
      "source": [
        "\n",
        "\n",
        "> **OUTCOME**\n",
        "\n",
        "*   Convert Timestamp to only date \n",
        "*   Add day name \n",
        "\n",
        "*   Check percentage of null values for each features\n",
        "*   Rename columns\n",
        "\n",
        "*   Delete Duplicate rows(Same Factory Id)\n",
        "\n",
        "*   Split Strings \n",
        "*   Rename Row Values\n",
        "\n",
        "\n",
        "\n",
        "\n",
        "\n",
        "\n",
        "\n",
        "\n",
        "\n",
        "\n",
        "\n",
        "\n",
        "\n"
      ],
      "metadata": {
        "id": "c-j2W3rfGlwc"
      }
    },
    {
      "cell_type": "markdown",
      "source": [
        "# ORGANISE DATA"
      ],
      "metadata": {
        "id": "x5PDrrVuHqL1"
      }
    },
    {
      "cell_type": "code",
      "source": [
        "df.columns = ['Timestamp',\n",
        "              'Factory name ',\n",
        "              'Factory id ',\n",
        "              'Gender',\n",
        "              'Age',\n",
        "              'Familiarity',\n",
        "              'Do you shop from apon?',\n",
        "              'What do you know about apon?',\n",
        "              'Do you know that you can buy via credit in Apon?',\n",
        "              'Can you buy via credit in Apon?',\n",
        "              'Credit Limit',\n",
        "              'Regularity',\n",
        "              'Why do you shop from Apon',\n",
        "              'Product List',\n",
        "              'Experience',\n",
        "              'Why dont you shop from Apon?',\n",
        "              'Where do you shop from?',\n",
        "              'Why dont you shop from Apon?_(2)',\n",
        "              'Where do you shop from?_(2)',\n",
        "              'Choose reason for shopping in Apon',\n",
        "              'Interviewer', \n",
        "              'Date']"
      ],
      "metadata": {
        "id": "o5YGC89SJIRF"
      },
      "execution_count": null,
      "outputs": []
    },
    {
      "cell_type": "code",
      "source": [
        "df.head()"
      ],
      "metadata": {
        "colab": {
          "base_uri": "https://localhost:8080/",
          "height": 1000
        },
        "id": "dkArND2MJIIL",
        "outputId": "a3415b51-bbcb-4fa8-c2f5-410fd8e3f5e0"
      },
      "execution_count": null,
      "outputs": [
        {
          "output_type": "execute_result",
          "data": {
            "text/plain": [
              "             Timestamp                         Factory name  Factory id   \\\n",
              "0  10/23/2022 17:07:23  Interfab Shirt Manufacturing Limited    ST0023\\t   \n",
              "1  10/23/2022 17:19:12                   Ananta Garments Ltd    GMUOP613   \n",
              "2  10/24/2022 11:50:25  Interfab Shirt Manufacturing Limited      st0017   \n",
              "3  10/24/2022 13:47:45                            SQ Station       34159   \n",
              "4  10/24/2022 17:32:56                            SQ Station       39190   \n",
              "\n",
              "  Gender  Age Familiarity Do you shop from apon?  \\\n",
              "0  পুরুষ   30        হ্যা                   হ্যা   \n",
              "1  মহিলা   23        হ্যা                   হ্যা   \n",
              "2  পুরুষ   26        হ্যা                   হ্যা   \n",
              "3  মহিলা   29        হ্যা                     না   \n",
              "4  পুরুষ   24        হ্যা                   হ্যা   \n",
              "\n",
              "                        What do you know about apon?  \\\n",
              "0                 আমাদের ফ্যাক্টরির মধ্যে একটি দোকান   \n",
              "1  আমাদের ফ্যাক্টরির মধ্যে একটি দোকান, নিত্য প্রয়...   \n",
              "2  আমাদের ফ্যাক্টরির মধ্যে একটি দোকান, নিত্য প্রয়...   \n",
              "3                                                NaN   \n",
              "4  নিত্য প্রয়োজনীয় অনেক পণ্য পাওয়া যায়   এমন দোকা...   \n",
              "\n",
              "  Do you know that you can buy via credit in Apon?  \\\n",
              "0                                             হ্যা   \n",
              "1                                             হ্যা   \n",
              "2                                             হ্যা   \n",
              "3                                              NaN   \n",
              "4                                             হ্যা   \n",
              "\n",
              "  Can you buy via credit in Apon?  ...  \\\n",
              "0                            হ্যা  ...   \n",
              "1                            হ্যা  ...   \n",
              "2                            হ্যা  ...   \n",
              "3                             NaN  ...   \n",
              "4                            হ্যা  ...   \n",
              "\n",
              "                           Why do you shop from Apon  \\\n",
              "0                                 ছাড়ের সুবিধার জন্য   \n",
              "1  গুনগত মান ভালো পন্যের  জন্য, ছাড়ের সুবিধার জন্...   \n",
              "2  ছাড়ের সুবিধার জন্য, আপন থেকে বাকিতে কেনার সুযো...   \n",
              "3                                                NaN   \n",
              "4  গুনগত মান ভালো পন্যের  জন্য, ছাড়ের সুবিধার জন্...   \n",
              "\n",
              "                                        Product List Experience  \\\n",
              "0                        নিত্যপ্রয়োজনীয় খাবার (Food)        3.0   \n",
              "1                        নিত্যপ্রয়োজনীয় খাবার (Food)        5.0   \n",
              "2                        নিত্যপ্রয়োজনীয় খাবার (Food)        4.0   \n",
              "3                                                NaN        NaN   \n",
              "4  স্বাস্থ্য এবং সৌন্দর্য সম্পর্কিত (Beauty and H...        4.0   \n",
              "\n",
              "  Why dont you shop from Apon?  \\\n",
              "0                 কম পন্য থাকে   \n",
              "1                 কম পন্য থাকে   \n",
              "2                 কম পন্য থাকে   \n",
              "3                          NaN   \n",
              "4                 কম পন্য থাকে   \n",
              "\n",
              "                           Where do you shop from?  \\\n",
              "0                                পরিচিত দোকান থেকে   \n",
              "1  পরিচিত দোকান থেকে, যে দোকান থেকে বাকি নিতে পারি   \n",
              "2                                পরিচিত দোকান থেকে   \n",
              "3                                              NaN   \n",
              "4                     যে দোকান থেকে বাকি নিতে পারি   \n",
              "\n",
              "  Why dont you shop from Apon?_(2) Where do you shop from?_(2)  \\\n",
              "0                              NaN                         NaN   \n",
              "1                              NaN                         NaN   \n",
              "2                              NaN                         NaN   \n",
              "3                     কম পন্য থাকে           পরিচিত দোকান থেকে   \n",
              "4                              NaN                         NaN   \n",
              "\n",
              "                  Choose reason for shopping in Apon             Interviewer  \\\n",
              "0                                                NaN                     NaN   \n",
              "1  ছাড়ের সুবিধার জন্য, আমার সময় বাঁচবে বলে মনে কর...      Md. Anisur Rahaman   \n",
              "2  ছাড়ের সুবিধার জন্য, ইন্সুরেন্স পাওয়া যায় এই  জন্য              ভিন্সেন্ট    \n",
              "3  গুনগত মান ভালো পন্যের  জন্য, আপন থেকে বাকিতে ক...       Md. Rahanul Islam   \n",
              "4                                                NaN  Md. Rahanul Islam Roni   \n",
              "\n",
              "         Date  \n",
              "0         NaN  \n",
              "1  10/23/2022  \n",
              "2  10/24/2022  \n",
              "3  10/24/2022  \n",
              "4  10/24/2022  \n",
              "\n",
              "[5 rows x 22 columns]"
            ],
            "text/html": [
              "\n",
              "  <div id=\"df-6f2b6903-5784-435e-acbf-1428772cf379\">\n",
              "    <div class=\"colab-df-container\">\n",
              "      <div>\n",
              "<style scoped>\n",
              "    .dataframe tbody tr th:only-of-type {\n",
              "        vertical-align: middle;\n",
              "    }\n",
              "\n",
              "    .dataframe tbody tr th {\n",
              "        vertical-align: top;\n",
              "    }\n",
              "\n",
              "    .dataframe thead th {\n",
              "        text-align: right;\n",
              "    }\n",
              "</style>\n",
              "<table border=\"1\" class=\"dataframe\">\n",
              "  <thead>\n",
              "    <tr style=\"text-align: right;\">\n",
              "      <th></th>\n",
              "      <th>Timestamp</th>\n",
              "      <th>Factory name</th>\n",
              "      <th>Factory id</th>\n",
              "      <th>Gender</th>\n",
              "      <th>Age</th>\n",
              "      <th>Familiarity</th>\n",
              "      <th>Do you shop from apon?</th>\n",
              "      <th>What do you know about apon?</th>\n",
              "      <th>Do you know that you can buy via credit in Apon?</th>\n",
              "      <th>Can you buy via credit in Apon?</th>\n",
              "      <th>...</th>\n",
              "      <th>Why do you shop from Apon</th>\n",
              "      <th>Product List</th>\n",
              "      <th>Experience</th>\n",
              "      <th>Why dont you shop from Apon?</th>\n",
              "      <th>Where do you shop from?</th>\n",
              "      <th>Why dont you shop from Apon?_(2)</th>\n",
              "      <th>Where do you shop from?_(2)</th>\n",
              "      <th>Choose reason for shopping in Apon</th>\n",
              "      <th>Interviewer</th>\n",
              "      <th>Date</th>\n",
              "    </tr>\n",
              "  </thead>\n",
              "  <tbody>\n",
              "    <tr>\n",
              "      <th>0</th>\n",
              "      <td>10/23/2022 17:07:23</td>\n",
              "      <td>Interfab Shirt Manufacturing Limited</td>\n",
              "      <td>ST0023\\t</td>\n",
              "      <td>পুরুষ</td>\n",
              "      <td>30</td>\n",
              "      <td>হ্যা</td>\n",
              "      <td>হ্যা</td>\n",
              "      <td>আমাদের ফ্যাক্টরির মধ্যে একটি দোকান</td>\n",
              "      <td>হ্যা</td>\n",
              "      <td>হ্যা</td>\n",
              "      <td>...</td>\n",
              "      <td>ছাড়ের সুবিধার জন্য</td>\n",
              "      <td>নিত্যপ্রয়োজনীয় খাবার (Food)</td>\n",
              "      <td>3.0</td>\n",
              "      <td>কম পন্য থাকে</td>\n",
              "      <td>পরিচিত দোকান থেকে</td>\n",
              "      <td>NaN</td>\n",
              "      <td>NaN</td>\n",
              "      <td>NaN</td>\n",
              "      <td>NaN</td>\n",
              "      <td>NaN</td>\n",
              "    </tr>\n",
              "    <tr>\n",
              "      <th>1</th>\n",
              "      <td>10/23/2022 17:19:12</td>\n",
              "      <td>Ananta Garments Ltd</td>\n",
              "      <td>GMUOP613</td>\n",
              "      <td>মহিলা</td>\n",
              "      <td>23</td>\n",
              "      <td>হ্যা</td>\n",
              "      <td>হ্যা</td>\n",
              "      <td>আমাদের ফ্যাক্টরির মধ্যে একটি দোকান, নিত্য প্রয়...</td>\n",
              "      <td>হ্যা</td>\n",
              "      <td>হ্যা</td>\n",
              "      <td>...</td>\n",
              "      <td>গুনগত মান ভালো পন্যের  জন্য, ছাড়ের সুবিধার জন্...</td>\n",
              "      <td>নিত্যপ্রয়োজনীয় খাবার (Food)</td>\n",
              "      <td>5.0</td>\n",
              "      <td>কম পন্য থাকে</td>\n",
              "      <td>পরিচিত দোকান থেকে, যে দোকান থেকে বাকি নিতে পারি</td>\n",
              "      <td>NaN</td>\n",
              "      <td>NaN</td>\n",
              "      <td>ছাড়ের সুবিধার জন্য, আমার সময় বাঁচবে বলে মনে কর...</td>\n",
              "      <td>Md. Anisur Rahaman</td>\n",
              "      <td>10/23/2022</td>\n",
              "    </tr>\n",
              "    <tr>\n",
              "      <th>2</th>\n",
              "      <td>10/24/2022 11:50:25</td>\n",
              "      <td>Interfab Shirt Manufacturing Limited</td>\n",
              "      <td>st0017</td>\n",
              "      <td>পুরুষ</td>\n",
              "      <td>26</td>\n",
              "      <td>হ্যা</td>\n",
              "      <td>হ্যা</td>\n",
              "      <td>আমাদের ফ্যাক্টরির মধ্যে একটি দোকান, নিত্য প্রয়...</td>\n",
              "      <td>হ্যা</td>\n",
              "      <td>হ্যা</td>\n",
              "      <td>...</td>\n",
              "      <td>ছাড়ের সুবিধার জন্য, আপন থেকে বাকিতে কেনার সুযো...</td>\n",
              "      <td>নিত্যপ্রয়োজনীয় খাবার (Food)</td>\n",
              "      <td>4.0</td>\n",
              "      <td>কম পন্য থাকে</td>\n",
              "      <td>পরিচিত দোকান থেকে</td>\n",
              "      <td>NaN</td>\n",
              "      <td>NaN</td>\n",
              "      <td>ছাড়ের সুবিধার জন্য, ইন্সুরেন্স পাওয়া যায় এই  জন্য</td>\n",
              "      <td>ভিন্সেন্ট</td>\n",
              "      <td>10/24/2022</td>\n",
              "    </tr>\n",
              "    <tr>\n",
              "      <th>3</th>\n",
              "      <td>10/24/2022 13:47:45</td>\n",
              "      <td>SQ Station</td>\n",
              "      <td>34159</td>\n",
              "      <td>মহিলা</td>\n",
              "      <td>29</td>\n",
              "      <td>হ্যা</td>\n",
              "      <td>না</td>\n",
              "      <td>NaN</td>\n",
              "      <td>NaN</td>\n",
              "      <td>NaN</td>\n",
              "      <td>...</td>\n",
              "      <td>NaN</td>\n",
              "      <td>NaN</td>\n",
              "      <td>NaN</td>\n",
              "      <td>NaN</td>\n",
              "      <td>NaN</td>\n",
              "      <td>কম পন্য থাকে</td>\n",
              "      <td>পরিচিত দোকান থেকে</td>\n",
              "      <td>গুনগত মান ভালো পন্যের  জন্য, আপন থেকে বাকিতে ক...</td>\n",
              "      <td>Md. Rahanul Islam</td>\n",
              "      <td>10/24/2022</td>\n",
              "    </tr>\n",
              "    <tr>\n",
              "      <th>4</th>\n",
              "      <td>10/24/2022 17:32:56</td>\n",
              "      <td>SQ Station</td>\n",
              "      <td>39190</td>\n",
              "      <td>পুরুষ</td>\n",
              "      <td>24</td>\n",
              "      <td>হ্যা</td>\n",
              "      <td>হ্যা</td>\n",
              "      <td>নিত্য প্রয়োজনীয় অনেক পণ্য পাওয়া যায়   এমন দোকা...</td>\n",
              "      <td>হ্যা</td>\n",
              "      <td>হ্যা</td>\n",
              "      <td>...</td>\n",
              "      <td>গুনগত মান ভালো পন্যের  জন্য, ছাড়ের সুবিধার জন্...</td>\n",
              "      <td>স্বাস্থ্য এবং সৌন্দর্য সম্পর্কিত (Beauty and H...</td>\n",
              "      <td>4.0</td>\n",
              "      <td>কম পন্য থাকে</td>\n",
              "      <td>যে দোকান থেকে বাকি নিতে পারি</td>\n",
              "      <td>NaN</td>\n",
              "      <td>NaN</td>\n",
              "      <td>NaN</td>\n",
              "      <td>Md. Rahanul Islam Roni</td>\n",
              "      <td>10/24/2022</td>\n",
              "    </tr>\n",
              "  </tbody>\n",
              "</table>\n",
              "<p>5 rows × 22 columns</p>\n",
              "</div>\n",
              "      <button class=\"colab-df-convert\" onclick=\"convertToInteractive('df-6f2b6903-5784-435e-acbf-1428772cf379')\"\n",
              "              title=\"Convert this dataframe to an interactive table.\"\n",
              "              style=\"display:none;\">\n",
              "        \n",
              "  <svg xmlns=\"http://www.w3.org/2000/svg\" height=\"24px\"viewBox=\"0 0 24 24\"\n",
              "       width=\"24px\">\n",
              "    <path d=\"M0 0h24v24H0V0z\" fill=\"none\"/>\n",
              "    <path d=\"M18.56 5.44l.94 2.06.94-2.06 2.06-.94-2.06-.94-.94-2.06-.94 2.06-2.06.94zm-11 1L8.5 8.5l.94-2.06 2.06-.94-2.06-.94L8.5 2.5l-.94 2.06-2.06.94zm10 10l.94 2.06.94-2.06 2.06-.94-2.06-.94-.94-2.06-.94 2.06-2.06.94z\"/><path d=\"M17.41 7.96l-1.37-1.37c-.4-.4-.92-.59-1.43-.59-.52 0-1.04.2-1.43.59L10.3 9.45l-7.72 7.72c-.78.78-.78 2.05 0 2.83L4 21.41c.39.39.9.59 1.41.59.51 0 1.02-.2 1.41-.59l7.78-7.78 2.81-2.81c.8-.78.8-2.07 0-2.86zM5.41 20L4 18.59l7.72-7.72 1.47 1.35L5.41 20z\"/>\n",
              "  </svg>\n",
              "      </button>\n",
              "      \n",
              "  <style>\n",
              "    .colab-df-container {\n",
              "      display:flex;\n",
              "      flex-wrap:wrap;\n",
              "      gap: 12px;\n",
              "    }\n",
              "\n",
              "    .colab-df-convert {\n",
              "      background-color: #E8F0FE;\n",
              "      border: none;\n",
              "      border-radius: 50%;\n",
              "      cursor: pointer;\n",
              "      display: none;\n",
              "      fill: #1967D2;\n",
              "      height: 32px;\n",
              "      padding: 0 0 0 0;\n",
              "      width: 32px;\n",
              "    }\n",
              "\n",
              "    .colab-df-convert:hover {\n",
              "      background-color: #E2EBFA;\n",
              "      box-shadow: 0px 1px 2px rgba(60, 64, 67, 0.3), 0px 1px 3px 1px rgba(60, 64, 67, 0.15);\n",
              "      fill: #174EA6;\n",
              "    }\n",
              "\n",
              "    [theme=dark] .colab-df-convert {\n",
              "      background-color: #3B4455;\n",
              "      fill: #D2E3FC;\n",
              "    }\n",
              "\n",
              "    [theme=dark] .colab-df-convert:hover {\n",
              "      background-color: #434B5C;\n",
              "      box-shadow: 0px 1px 3px 1px rgba(0, 0, 0, 0.15);\n",
              "      filter: drop-shadow(0px 1px 2px rgba(0, 0, 0, 0.3));\n",
              "      fill: #FFFFFF;\n",
              "    }\n",
              "  </style>\n",
              "\n",
              "      <script>\n",
              "        const buttonEl =\n",
              "          document.querySelector('#df-6f2b6903-5784-435e-acbf-1428772cf379 button.colab-df-convert');\n",
              "        buttonEl.style.display =\n",
              "          google.colab.kernel.accessAllowed ? 'block' : 'none';\n",
              "\n",
              "        async function convertToInteractive(key) {\n",
              "          const element = document.querySelector('#df-6f2b6903-5784-435e-acbf-1428772cf379');\n",
              "          const dataTable =\n",
              "            await google.colab.kernel.invokeFunction('convertToInteractive',\n",
              "                                                     [key], {});\n",
              "          if (!dataTable) return;\n",
              "\n",
              "          const docLinkHtml = 'Like what you see? Visit the ' +\n",
              "            '<a target=\"_blank\" href=https://colab.research.google.com/notebooks/data_table.ipynb>data table notebook</a>'\n",
              "            + ' to learn more about interactive tables.';\n",
              "          element.innerHTML = '';\n",
              "          dataTable['output_type'] = 'display_data';\n",
              "          await google.colab.output.renderOutput(dataTable, element);\n",
              "          const docLink = document.createElement('div');\n",
              "          docLink.innerHTML = docLinkHtml;\n",
              "          element.appendChild(docLink);\n",
              "        }\n",
              "      </script>\n",
              "    </div>\n",
              "  </div>\n",
              "  "
            ]
          },
          "metadata": {},
          "execution_count": 10
        }
      ]
    },
    {
      "cell_type": "code",
      "source": [
        "df.drop(['Date', 'Interviewer'], axis = 1,  inplace= True)"
      ],
      "metadata": {
        "id": "8L-XrKiqOfQv"
      },
      "execution_count": null,
      "outputs": []
    },
    {
      "cell_type": "code",
      "source": [
        "n_unique = []\n",
        "for col in df:\n",
        "  uni = df[col].nunique()\n",
        "  n_unique.append([col, uni])\n",
        "\n",
        "n_unique"
      ],
      "metadata": {
        "colab": {
          "base_uri": "https://localhost:8080/"
        },
        "id": "Ptx92RPc6NOH",
        "outputId": "70f4b98c-58c6-4b67-d7b0-c07b20335991"
      },
      "execution_count": null,
      "outputs": [
        {
          "output_type": "execute_result",
          "data": {
            "text/plain": [
              "[['Timestamp', 961],\n",
              " ['Factory name ', 8],\n",
              " ['Factory id ', 932],\n",
              " ['Gender', 2],\n",
              " ['Age', 41],\n",
              " ['Familiarity', 2],\n",
              " ['Do you shop from apon?', 2],\n",
              " ['What do you know about apon?', 26],\n",
              " ['Do you know that you can buy via credit in Apon?', 2],\n",
              " ['Can you buy via credit in Apon?', 4],\n",
              " ['Credit Limit', 319],\n",
              " ['Regularity', 2],\n",
              " ['Why do you shop from Apon', 90],\n",
              " ['Product List', 29],\n",
              " ['Experience', 5],\n",
              " ['Why dont you shop from Apon?', 47],\n",
              " ['Where do you shop from?', 26],\n",
              " ['Why dont you shop from Apon?_(2)', 51],\n",
              " ['Where do you shop from?_(2)', 45],\n",
              " ['Choose reason for shopping in Apon', 79]]"
            ]
          },
          "metadata": {},
          "execution_count": 12
        }
      ]
    },
    {
      "cell_type": "code",
      "source": [
        "import datetime\n",
        "from datetime import datetime"
      ],
      "metadata": {
        "id": "lTLEAXp66NRT"
      },
      "execution_count": null,
      "outputs": []
    },
    {
      "cell_type": "code",
      "source": [
        "#dataframe[‘Date’] = pd.to_datetime(dataframe[‘DateTime’]).dt.date\n",
        "df['Timestamp'] = pd.to_datetime(df['Timestamp']).dt.date"
      ],
      "metadata": {
        "id": "mIQdtAwd6NT4"
      },
      "execution_count": null,
      "outputs": []
    },
    {
      "cell_type": "code",
      "source": [
        "df['Day'] = pd.to_datetime(df['Timestamp']).dt.day_name()\n"
      ],
      "metadata": {
        "id": "Q6DFcQFREqmU"
      },
      "execution_count": null,
      "outputs": []
    },
    {
      "cell_type": "code",
      "source": [
        "df[['buying_reason_1', 'buying_reason_2', 'buying_reason_3','buying_reason_4', 'buying_reason_5', 'buying_reason_6', 'buying_reason_7']] = df['Choose reason for shopping in Apon'].str.split(', ', expand = True)"
      ],
      "metadata": {
        "id": "l9cUqC2xxvwM"
      },
      "execution_count": null,
      "outputs": []
    },
    {
      "cell_type": "code",
      "source": [
        "df[['Knowledge_1', 'Knowledge_2', 'Knowledge_3','Knowledge_4', 'Knowledge_5']] = df['What do you know about apon?'].str.split(', ', expand = True)"
      ],
      "metadata": {
        "id": "68bx6OyZ6soh"
      },
      "execution_count": null,
      "outputs": []
    },
    {
      "cell_type": "code",
      "source": [
        "df[['product_list_1', 'product_list_2','product_list_3' , 'product_list_4','product_list_5', 'product_list_6']] = df['Product List'].str.split(', ', expand = True)"
      ],
      "metadata": {
        "id": "MLm-hkNN6skL"
      },
      "execution_count": null,
      "outputs": []
    },
    {
      "cell_type": "code",
      "source": [
        "df[['no_shop_reason_1', 'no_shop_reason_2','no_shop_reason_3' , 'no_shop_reason_4','no_shop_reason_5', 'no_shop_reason_6']] = df['Why dont you shop from Apon?'].str.split(', ', expand = True)"
      ],
      "metadata": {
        "id": "FyqC2khK9iW4"
      },
      "execution_count": null,
      "outputs": []
    },
    {
      "cell_type": "code",
      "source": [
        "df[['no_shop_reason_7', 'no_shop_reason_8','no_shop_reason_9' , 'no_shop_reason_10','no_shop_reason_11', 'no_shop_reason_12','no_shop_reason_13']] = df['Why dont you shop from Apon?_(2)'].str.split(', ', expand = True)"
      ],
      "metadata": {
        "id": "M9HHP_Pf9iJi"
      },
      "execution_count": null,
      "outputs": []
    },
    {
      "cell_type": "code",
      "source": [
        "df[['shop_from_1', 'shop_from_2','shop_from_3' , 'shop_from_4','shop_from_5', 'shop_from_6']] = df['Where do you shop from?'].str.split(', ', expand = True)"
      ],
      "metadata": {
        "id": "7nMSSuVl9iRV"
      },
      "execution_count": null,
      "outputs": []
    },
    {
      "cell_type": "code",
      "source": [
        "df[['shop_from_7', 'shop_from_8','shop_from_9' , 'shop_from_10','shop_from_11', 'shop_from_12', 'shop_from_13']] = df['Where do you shop from?_(2)'].str.split(', ', expand = True)"
      ],
      "metadata": {
        "id": "AniUDt7vEi-j"
      },
      "execution_count": null,
      "outputs": []
    },
    {
      "cell_type": "code",
      "source": [
        "df.drop(['What do you know about apon?','Why do you shop from Apon','Choose reason for shopping in Apon', 'Product List', 'Why dont you shop from Apon?','Where do you shop from?_(2)','Why dont you shop from Apon?_(2)', 'Where do you shop from?'], inplace = True, axis = 1 )"
      ],
      "metadata": {
        "id": "QRU42EnF6sdm"
      },
      "execution_count": null,
      "outputs": []
    },
    {
      "cell_type": "code",
      "source": [
        "df.columns"
      ],
      "metadata": {
        "colab": {
          "base_uri": "https://localhost:8080/"
        },
        "id": "vGtAUUkdVvoj",
        "outputId": "4dd72a48-d1b4-45c4-dc8d-3563d4cce554"
      },
      "execution_count": null,
      "outputs": [
        {
          "output_type": "execute_result",
          "data": {
            "text/plain": [
              "Index(['Timestamp', 'Factory name ', 'Factory id ', 'Gender', 'Age',\n",
              "       'Familiarity', 'Do you shop from apon?',\n",
              "       'Do you know that you can buy via credit in Apon?',\n",
              "       'Can you buy via credit in Apon?', 'Credit Limit', 'Regularity',\n",
              "       'Experience', 'Day', 'buying_reason_1', 'buying_reason_2',\n",
              "       'buying_reason_3', 'buying_reason_4', 'buying_reason_5',\n",
              "       'buying_reason_6', 'buying_reason_7', 'Knowledge_1', 'Knowledge_2',\n",
              "       'Knowledge_3', 'Knowledge_4', 'Knowledge_5', 'product_list_1',\n",
              "       'product_list_2', 'product_list_3', 'product_list_4', 'product_list_5',\n",
              "       'product_list_6', 'no_shop_reason_1', 'no_shop_reason_2',\n",
              "       'no_shop_reason_3', 'no_shop_reason_4', 'no_shop_reason_5',\n",
              "       'no_shop_reason_6', 'no_shop_reason_7', 'no_shop_reason_8',\n",
              "       'no_shop_reason_9', 'no_shop_reason_10', 'no_shop_reason_11',\n",
              "       'no_shop_reason_12', 'no_shop_reason_13', 'shop_from_1', 'shop_from_2',\n",
              "       'shop_from_3', 'shop_from_4', 'shop_from_5', 'shop_from_6',\n",
              "       'shop_from_7', 'shop_from_8', 'shop_from_9', 'shop_from_10',\n",
              "       'shop_from_11', 'shop_from_12', 'shop_from_13'],\n",
              "      dtype='object')"
            ]
          },
          "metadata": {},
          "execution_count": 24
        }
      ]
    },
    {
      "cell_type": "code",
      "source": [
        "def matching(str_1, num1, num2):\n",
        "\n",
        "  counter = 0\n",
        "  col4 = 'match'\n",
        "  \n",
        "  for i in range(1,num1,1):    \n",
        "           str_2 = str(i)       \n",
        "           col1= str_1 + str_2\n",
        "          \n",
        "           for j in range(num1,num2,1):\n",
        "             str_3 = str(j)\n",
        "             counter += 1\n",
        "             count = str(counter)\n",
        "             col2 = str_1 + str_3\n",
        "             col5 = col4 + count\n",
        "\n",
        "             df[col5] = df[col1] == df[col2]            \n",
        "             df[col2] = np.where(df[col5] == True, np.NaN, df[col2] )\n",
        "\n",
        "             df.drop(col5, axis =1, inplace = True)\n"
      ],
      "metadata": {
        "id": "FgBmdfTzI9B3"
      },
      "execution_count": null,
      "outputs": []
    },
    {
      "cell_type": "code",
      "source": [
        "matching('no_shop_reason_', 7, 14 )"
      ],
      "metadata": {
        "id": "CRywEjm8jgWO"
      },
      "execution_count": null,
      "outputs": []
    },
    {
      "cell_type": "code",
      "source": [
        "matching('shop_from_', 7, 14)"
      ],
      "metadata": {
        "id": "qMoJVdOekBWz"
      },
      "execution_count": null,
      "outputs": []
    },
    {
      "cell_type": "code",
      "source": [
        "plt.figure(figsize=(18,4))\n",
        "sns.barplot(y=((df.isnull().sum()/len(df))*100).sort_values(), x=((df.isnull().sum()/len(df))*100).sort_values().index, palette='viridis')\n",
        "plt.xticks(rotation=90);"
      ],
      "metadata": {
        "colab": {
          "base_uri": "https://localhost:8080/",
          "height": 502
        },
        "id": "bswtbj6p6NJl",
        "outputId": "4ae1c865-310b-4965-dc26-a4a627d1ab8e"
      },
      "execution_count": null,
      "outputs": [
        {
          "output_type": "display_data",
          "data": {
            "text/plain": [
              "<Figure size 1296x288 with 1 Axes>"
            ],
            "image/png": "[encoded data removed]"
          },
          "metadata": {
            "needs_background": "light"
          }
        }
      ]
    },
    {
      "cell_type": "code",
      "source": [
        "(df.isnull().sum() * 100 / len(df)).sort_values()"
      ],
      "metadata": {
        "colab": {
          "base_uri": "https://localhost:8080/"
        },
        "id": "Ovw3b0n2kBNj",
        "outputId": "73b37c5d-cd96-4f12-9960-b5e636b56d78"
      },
      "execution_count": null,
      "outputs": [
        {
          "output_type": "execute_result",
          "data": {
            "text/plain": [
              "Timestamp                                             0.000000\n",
              "Factory name                                          0.000000\n",
              "Factory id                                            0.000000\n",
              "Gender                                                0.000000\n",
              "Age                                                   0.000000\n",
              "Familiarity                                           0.000000\n",
              "Do you shop from apon?                                0.000000\n",
              "Day                                                   0.000000\n",
              "buying_reason_1                                      15.816857\n",
              "buying_reason_2                                      16.857440\n",
              "product_list_1                                       30.801249\n",
              "no_shop_reason_1                                     30.801249\n",
              "shop_from_1                                          30.801249\n",
              "Regularity                                           30.801249\n",
              "Knowledge_1                                          30.801249\n",
              "Credit Limit                                         30.801249\n",
              "Can you buy via credit in Apon?                      30.801249\n",
              "Do you know that you can buy via credit in Apon?     30.801249\n",
              "Experience                                           30.801249\n",
              "Knowledge_2                                          36.628512\n",
              "product_list_2                                       40.894901\n",
              "Knowledge_3                                          45.577523\n",
              "no_shop_reason_2                                     48.907388\n",
              "shop_from_2                                          56.399584\n",
              "Knowledge_4                                          60.665973\n",
              "product_list_3                                       62.122789\n",
              "buying_reason_3                                      65.348595\n",
              "shop_from_7                                          66.493236\n",
              "no_shop_reason_7                                     67.429761\n",
              "shop_from_8                                          73.152966\n",
              "no_shop_reason_8                                     75.546306\n",
              "shop_from_3                                          77.627471\n",
              "Knowledge_5                                          77.939646\n",
              "product_list_4                                       78.459938\n",
              "buying_reason_4                                      79.396462\n",
              "no_shop_reason_3                                     80.437045\n",
              "shop_from_10                                         86.368366\n",
              "shop_from_9                                          86.576483\n",
              "no_shop_reason_9                                     87.200832\n",
              "product_list_5                                       89.802289\n",
              "no_shop_reason_4                                     92.299688\n",
              "buying_reason_5                                      92.819979\n",
              "no_shop_reason_10                                    94.588970\n",
              "shop_from_4                                          96.357960\n",
              "shop_from_5                                          97.710718\n",
              "no_shop_reason_11                                    97.918835\n",
              "shop_from_11                                         98.231009\n",
              "buying_reason_6                                      98.439126\n",
              "no_shop_reason_5                                     99.271592\n",
              "product_list_6                                       99.583767\n",
              "buying_reason_7                                      99.687825\n",
              "shop_from_12                                         99.687825\n",
              "no_shop_reason_12                                    99.791883\n",
              "shop_from_6                                          99.791883\n",
              "shop_from_13                                         99.791883\n",
              "no_shop_reason_6                                     99.895942\n",
              "no_shop_reason_13                                   100.000000\n",
              "dtype: float64"
            ]
          },
          "metadata": {},
          "execution_count": 29
        }
      ]
    },
    {
      "cell_type": "code",
      "source": [
        "df.drop(df.columns[((df.isnull().sum()/len(df))*100) > 90], axis =1, inplace = True)"
      ],
      "metadata": {
        "id": "9O6t2kmEI8-v"
      },
      "execution_count": null,
      "outputs": []
    },
    {
      "cell_type": "code",
      "source": [
        "for col in df[['Familiarity', \n",
        "               'Do you shop from apon?',\n",
        "               'Do you know that you can buy via credit in Apon?',    \n",
        "               'Can you buy via credit in Apon?', \n",
        "               'Regularity']]:\n",
        "  df[col].replace('হ্যা', 'yes', inplace = True)\n",
        "  df[col].replace('না', 'no', inplace = True)\n",
        "  "
      ],
      "metadata": {
        "id": "3_DIG30cqR_i"
      },
      "execution_count": null,
      "outputs": []
    },
    {
      "cell_type": "code",
      "execution_count": null,
      "metadata": {
        "id": "XsFY8zK4IE90"
      },
      "outputs": [],
      "source": [
        "df['Gender'] = np.where(df['Gender'] == 'পুরুষ', 'male','female')\n"
      ]
    },
    {
      "cell_type": "code",
      "source": [
        "df.head()"
      ],
      "metadata": {
        "colab": {
          "base_uri": "https://localhost:8080/",
          "height": 611
        },
        "id": "TgESgPjuNPlx",
        "outputId": "116712a7-42c7-4540-e817-d358b4472bff"
      },
      "execution_count": null,
      "outputs": [
        {
          "output_type": "execute_result",
          "data": {
            "text/plain": [
              "    Timestamp                         Factory name  Factory id   Gender  Age  \\\n",
              "0  2022-10-23  Interfab Shirt Manufacturing Limited    ST0023\\t    male   30   \n",
              "1  2022-10-23                   Ananta Garments Ltd    GMUOP613  female   23   \n",
              "2  2022-10-24  Interfab Shirt Manufacturing Limited      st0017    male   26   \n",
              "3  2022-10-24                            SQ Station       34159  female   29   \n",
              "4  2022-10-24                            SQ Station       39190    male   24   \n",
              "\n",
              "  Familiarity Do you shop from apon?  \\\n",
              "0         yes                    yes   \n",
              "1         yes                    yes   \n",
              "2         yes                    yes   \n",
              "3         yes                     no   \n",
              "4         yes                    yes   \n",
              "\n",
              "  Do you know that you can buy via credit in Apon?  \\\n",
              "0                                              yes   \n",
              "1                                              yes   \n",
              "2                                              yes   \n",
              "3                                              NaN   \n",
              "4                                              yes   \n",
              "\n",
              "  Can you buy via credit in Apon?  Credit Limit  ... no_shop_reason_7  \\\n",
              "0                             yes        4000.0  ...              NaN   \n",
              "1                             yes        2400.0  ...              NaN   \n",
              "2                             yes        5250.0  ...              NaN   \n",
              "3                             NaN           NaN  ...     কম পন্য থাকে   \n",
              "4                             yes        2219.0  ...              NaN   \n",
              "\n",
              "   no_shop_reason_8 no_shop_reason_9                   shop_from_1  \\\n",
              "0               NaN              NaN             পরিচিত দোকান থেকে   \n",
              "1               NaN              NaN             পরিচিত দোকান থেকে   \n",
              "2               NaN              NaN             পরিচিত দোকান থেকে   \n",
              "3              None             None                           NaN   \n",
              "4               NaN              NaN  যে দোকান থেকে বাকি নিতে পারি   \n",
              "\n",
              "                    shop_from_2 shop_from_3        shop_from_7 shop_from_8  \\\n",
              "0                          None        None                NaN         NaN   \n",
              "1  যে দোকান থেকে বাকি নিতে পারি        None                NaN         NaN   \n",
              "2                          None        None                NaN         NaN   \n",
              "3                           NaN         NaN  পরিচিত দোকান থেকে        None   \n",
              "4                          None        None                NaN         NaN   \n",
              "\n",
              "  shop_from_9 shop_from_10  \n",
              "0         NaN          NaN  \n",
              "1         NaN          NaN  \n",
              "2         NaN          NaN  \n",
              "3        None         None  \n",
              "4         NaN          NaN  \n",
              "\n",
              "[5 rows x 40 columns]"
            ],
            "text/html": [
              "\n",
              "  <div id=\"df-807d8a57-4a1c-45c6-91e4-7405d45a532f\">\n",
              "    <div class=\"colab-df-container\">\n",
              "      <div>\n",
              "<style scoped>\n",
              "    .dataframe tbody tr th:only-of-type {\n",
              "        vertical-align: middle;\n",
              "    }\n",
              "\n",
              "    .dataframe tbody tr th {\n",
              "        vertical-align: top;\n",
              "    }\n",
              "\n",
              "    .dataframe thead th {\n",
              "        text-align: right;\n",
              "    }\n",
              "</style>\n",
              "<table border=\"1\" class=\"dataframe\">\n",
              "  <thead>\n",
              "    <tr style=\"text-align: right;\">\n",
              "      <th></th>\n",
              "      <th>Timestamp</th>\n",
              "      <th>Factory name</th>\n",
              "      <th>Factory id</th>\n",
              "      <th>Gender</th>\n",
              "      <th>Age</th>\n",
              "      <th>Familiarity</th>\n",
              "      <th>Do you shop from apon?</th>\n",
              "      <th>Do you know that you can buy via credit in Apon?</th>\n",
              "      <th>Can you buy via credit in Apon?</th>\n",
              "      <th>Credit Limit</th>\n",
              "      <th>...</th>\n",
              "      <th>no_shop_reason_7</th>\n",
              "      <th>no_shop_reason_8</th>\n",
              "      <th>no_shop_reason_9</th>\n",
              "      <th>shop_from_1</th>\n",
              "      <th>shop_from_2</th>\n",
              "      <th>shop_from_3</th>\n",
              "      <th>shop_from_7</th>\n",
              "      <th>shop_from_8</th>\n",
              "      <th>shop_from_9</th>\n",
              "      <th>shop_from_10</th>\n",
              "    </tr>\n",
              "  </thead>\n",
              "  <tbody>\n",
              "    <tr>\n",
              "      <th>0</th>\n",
              "      <td>2022-10-23</td>\n",
              "      <td>Interfab Shirt Manufacturing Limited</td>\n",
              "      <td>ST0023\\t</td>\n",
              "      <td>male</td>\n",
              "      <td>30</td>\n",
              "      <td>yes</td>\n",
              "      <td>yes</td>\n",
              "      <td>yes</td>\n",
              "      <td>yes</td>\n",
              "      <td>4000.0</td>\n",
              "      <td>...</td>\n",
              "      <td>NaN</td>\n",
              "      <td>NaN</td>\n",
              "      <td>NaN</td>\n",
              "      <td>পরিচিত দোকান থেকে</td>\n",
              "      <td>None</td>\n",
              "      <td>None</td>\n",
              "      <td>NaN</td>\n",
              "      <td>NaN</td>\n",
              "      <td>NaN</td>\n",
              "      <td>NaN</td>\n",
              "    </tr>\n",
              "    <tr>\n",
              "      <th>1</th>\n",
              "      <td>2022-10-23</td>\n",
              "      <td>Ananta Garments Ltd</td>\n",
              "      <td>GMUOP613</td>\n",
              "      <td>female</td>\n",
              "      <td>23</td>\n",
              "      <td>yes</td>\n",
              "      <td>yes</td>\n",
              "      <td>yes</td>\n",
              "      <td>yes</td>\n",
              "      <td>2400.0</td>\n",
              "      <td>...</td>\n",
              "      <td>NaN</td>\n",
              "      <td>NaN</td>\n",
              "      <td>NaN</td>\n",
              "      <td>পরিচিত দোকান থেকে</td>\n",
              "      <td>যে দোকান থেকে বাকি নিতে পারি</td>\n",
              "      <td>None</td>\n",
              "      <td>NaN</td>\n",
              "      <td>NaN</td>\n",
              "      <td>NaN</td>\n",
              "      <td>NaN</td>\n",
              "    </tr>\n",
              "    <tr>\n",
              "      <th>2</th>\n",
              "      <td>2022-10-24</td>\n",
              "      <td>Interfab Shirt Manufacturing Limited</td>\n",
              "      <td>st0017</td>\n",
              "      <td>male</td>\n",
              "      <td>26</td>\n",
              "      <td>yes</td>\n",
              "      <td>yes</td>\n",
              "      <td>yes</td>\n",
              "      <td>yes</td>\n",
              "      <td>5250.0</td>\n",
              "      <td>...</td>\n",
              "      <td>NaN</td>\n",
              "      <td>NaN</td>\n",
              "      <td>NaN</td>\n",
              "      <td>পরিচিত দোকান থেকে</td>\n",
              "      <td>None</td>\n",
              "      <td>None</td>\n",
              "      <td>NaN</td>\n",
              "      <td>NaN</td>\n",
              "      <td>NaN</td>\n",
              "      <td>NaN</td>\n",
              "    </tr>\n",
              "    <tr>\n",
              "      <th>3</th>\n",
              "      <td>2022-10-24</td>\n",
              "      <td>SQ Station</td>\n",
              "      <td>34159</td>\n",
              "      <td>female</td>\n",
              "      <td>29</td>\n",
              "      <td>yes</td>\n",
              "      <td>no</td>\n",
              "      <td>NaN</td>\n",
              "      <td>NaN</td>\n",
              "      <td>NaN</td>\n",
              "      <td>...</td>\n",
              "      <td>কম পন্য থাকে</td>\n",
              "      <td>None</td>\n",
              "      <td>None</td>\n",
              "      <td>NaN</td>\n",
              "      <td>NaN</td>\n",
              "      <td>NaN</td>\n",
              "      <td>পরিচিত দোকান থেকে</td>\n",
              "      <td>None</td>\n",
              "      <td>None</td>\n",
              "      <td>None</td>\n",
              "    </tr>\n",
              "    <tr>\n",
              "      <th>4</th>\n",
              "      <td>2022-10-24</td>\n",
              "      <td>SQ Station</td>\n",
              "      <td>39190</td>\n",
              "      <td>male</td>\n",
              "      <td>24</td>\n",
              "      <td>yes</td>\n",
              "      <td>yes</td>\n",
              "      <td>yes</td>\n",
              "      <td>yes</td>\n",
              "      <td>2219.0</td>\n",
              "      <td>...</td>\n",
              "      <td>NaN</td>\n",
              "      <td>NaN</td>\n",
              "      <td>NaN</td>\n",
              "      <td>যে দোকান থেকে বাকি নিতে পারি</td>\n",
              "      <td>None</td>\n",
              "      <td>None</td>\n",
              "      <td>NaN</td>\n",
              "      <td>NaN</td>\n",
              "      <td>NaN</td>\n",
              "      <td>NaN</td>\n",
              "    </tr>\n",
              "  </tbody>\n",
              "</table>\n",
              "<p>5 rows × 40 columns</p>\n",
              "</div>\n",
              "      <button class=\"colab-df-convert\" onclick=\"convertToInteractive('df-807d8a57-4a1c-45c6-91e4-7405d45a532f')\"\n",
              "              title=\"Convert this dataframe to an interactive table.\"\n",
              "              style=\"display:none;\">\n",
              "        \n",
              "  <svg xmlns=\"http://www.w3.org/2000/svg\" height=\"24px\"viewBox=\"0 0 24 24\"\n",
              "       width=\"24px\">\n",
              "    <path d=\"M0 0h24v24H0V0z\" fill=\"none\"/>\n",
              "    <path d=\"M18.56 5.44l.94 2.06.94-2.06 2.06-.94-2.06-.94-.94-2.06-.94 2.06-2.06.94zm-11 1L8.5 8.5l.94-2.06 2.06-.94-2.06-.94L8.5 2.5l-.94 2.06-2.06.94zm10 10l.94 2.06.94-2.06 2.06-.94-2.06-.94-.94-2.06-.94 2.06-2.06.94z\"/><path d=\"M17.41 7.96l-1.37-1.37c-.4-.4-.92-.59-1.43-.59-.52 0-1.04.2-1.43.59L10.3 9.45l-7.72 7.72c-.78.78-.78 2.05 0 2.83L4 21.41c.39.39.9.59 1.41.59.51 0 1.02-.2 1.41-.59l7.78-7.78 2.81-2.81c.8-.78.8-2.07 0-2.86zM5.41 20L4 18.59l7.72-7.72 1.47 1.35L5.41 20z\"/>\n",
              "  </svg>\n",
              "      </button>\n",
              "      \n",
              "  <style>\n",
              "    .colab-df-container {\n",
              "      display:flex;\n",
              "      flex-wrap:wrap;\n",
              "      gap: 12px;\n",
              "    }\n",
              "\n",
              "    .colab-df-convert {\n",
              "      background-color: #E8F0FE;\n",
              "      border: none;\n",
              "      border-radius: 50%;\n",
              "      cursor: pointer;\n",
              "      display: none;\n",
              "      fill: #1967D2;\n",
              "      height: 32px;\n",
              "      padding: 0 0 0 0;\n",
              "      width: 32px;\n",
              "    }\n",
              "\n",
              "    .colab-df-convert:hover {\n",
              "      background-color: #E2EBFA;\n",
              "      box-shadow: 0px 1px 2px rgba(60, 64, 67, 0.3), 0px 1px 3px 1px rgba(60, 64, 67, 0.15);\n",
              "      fill: #174EA6;\n",
              "    }\n",
              "\n",
              "    [theme=dark] .colab-df-convert {\n",
              "      background-color: #3B4455;\n",
              "      fill: #D2E3FC;\n",
              "    }\n",
              "\n",
              "    [theme=dark] .colab-df-convert:hover {\n",
              "      background-color: #434B5C;\n",
              "      box-shadow: 0px 1px 3px 1px rgba(0, 0, 0, 0.15);\n",
              "      filter: drop-shadow(0px 1px 2px rgba(0, 0, 0, 0.3));\n",
              "      fill: #FFFFFF;\n",
              "    }\n",
              "  </style>\n",
              "\n",
              "      <script>\n",
              "        const buttonEl =\n",
              "          document.querySelector('#df-807d8a57-4a1c-45c6-91e4-7405d45a532f button.colab-df-convert');\n",
              "        buttonEl.style.display =\n",
              "          google.colab.kernel.accessAllowed ? 'block' : 'none';\n",
              "\n",
              "        async function convertToInteractive(key) {\n",
              "          const element = document.querySelector('#df-807d8a57-4a1c-45c6-91e4-7405d45a532f');\n",
              "          const dataTable =\n",
              "            await google.colab.kernel.invokeFunction('convertToInteractive',\n",
              "                                                     [key], {});\n",
              "          if (!dataTable) return;\n",
              "\n",
              "          const docLinkHtml = 'Like what you see? Visit the ' +\n",
              "            '<a target=\"_blank\" href=https://colab.research.google.com/notebooks/data_table.ipynb>data table notebook</a>'\n",
              "            + ' to learn more about interactive tables.';\n",
              "          element.innerHTML = '';\n",
              "          dataTable['output_type'] = 'display_data';\n",
              "          await google.colab.output.renderOutput(dataTable, element);\n",
              "          const docLink = document.createElement('div');\n",
              "          docLink.innerHTML = docLinkHtml;\n",
              "          element.appendChild(docLink);\n",
              "        }\n",
              "      </script>\n",
              "    </div>\n",
              "  </div>\n",
              "  "
            ]
          },
          "metadata": {},
          "execution_count": 33
        }
      ]
    },
    {
      "cell_type": "code",
      "source": [
        "for col in df[['product_list_1', 'product_list_2', 'product_list_3', 'product_list_4',\n",
        "       'product_list_5']]:\n",
        "                      df[col].replace('নিত্যপ্রয়োজনীয় খাবার (Food)', 'Food', inplace = True)\n",
        "                      df[col].replace('স্বাস্থ্য এবং সৌন্দর্য সম্পর্কিত (Beauty and Health)', 'Beauty and Health', inplace = True)\n",
        "                      df[col].replace('শিশুদের প্রয়োজনীয় (Baby Essentials)', 'Baby Essentials', inplace = True)\n",
        "                      df[col].replace('লাইফস্টাইল পন্য (Lifestyle)','Lifestyle', inplace = True)\n",
        "                      df[col].replace('অফিসের প্রয়োজনীয় (Office Products)','Office_Products', inplace = True) \n",
        "                      df[col].replace('শাকসবজি (Perishables)', 'Perishables', inplace = True)"
      ],
      "metadata": {
        "id": "yM1YlQxllGOr"
      },
      "execution_count": null,
      "outputs": []
    },
    {
      "cell_type": "code",
      "source": [
        "for col in df[['buying_reason_1',\n",
        "       'buying_reason_2', 'buying_reason_3', 'buying_reason_4']]:\n",
        "                      df[col].replace('ছাড়ের সুবিধার জন্য', 'Discount', inplace = True)\n",
        "                      df[col].replace('আপন থেকে বাকিতে কেনার সুযোগ পাওয়া যায়', 'Credit_System', inplace = True)\n",
        "                      df[col].replace('গুনগত মান ভালো পন্যের  জন্য', 'Good Quality', inplace = True)\n",
        "                      df[col].replace('ইন্সুরেন্স পাওয়া যায় এই  জন্য', 'Insurance', inplace = True)\n",
        "                      df[col].replace('আমার সময় বাঁচবে বলে মনে করছি', 'Time Saving', inplace = True) \n",
        "                      df[col].replace('দোকানের কর্মচারীদের ব্যাবহার ভালো এই জন্য',  'Good Behaviour', inplace = True)\n",
        "                      df[col].replace('যাতায়াতের সুবিধার জন্য(ফ্যাক্টরিতে দোকান)',  'Factory Shop', inplace = True)"
      ],
      "metadata": {
        "id": "gj_iKpCt1Eyz"
      },
      "execution_count": null,
      "outputs": []
    },
    {
      "cell_type": "code",
      "source": [
        "for col in df[['Knowledge_1','Knowledge_2', 'Knowledge_3', 'Knowledge_4', 'Knowledge_5']]:\n",
        "\n",
        "                      df[col].replace('আমাদের ফ্যাক্টরির মধ্যে একটি দোকান', 'Shop within the Factory', inplace = True)\n",
        "                      df[col].replace('নিত্য প্রয়োজনীয় অনেক পণ্য পাওয়া যায়   এমন দোকান', 'Daily Necessities Shop', inplace = True)\n",
        "                      df[col].replace('আপন থেকে কেনাকাটা করলে ইন্সুরেন্স সুবিধা পাওয়া যায়', 'Insurance', inplace = True)\n",
        "                      df[col].replace('আপন বাকিতে কেনার সুযোগ দেয়', 'Credit System', inplace = True)\n",
        "                      df[col].replace('আপন থেকে ছাড় পাওয়া যায়', 'Discount Shop', inplace = True)\n",
        "                      "
      ],
      "metadata": {
        "id": "YXz3Q2eYI860"
      },
      "execution_count": null,
      "outputs": []
    },
    {
      "cell_type": "code",
      "source": [
        "for col in df[['no_shop_reason_1', 'no_shop_reason_2',\n",
        "       'no_shop_reason_3', 'no_shop_reason_7', 'no_shop_reason_8',\n",
        "       'no_shop_reason_9']]:                      \n",
        "                      df[col].replace('কম পন্য থাকে', 'Low Inventory', inplace = True)\n",
        "                      df[col].replace('আমার বাসা থেকে আপন শপ অনেক দূরে।', 'Far From Home', inplace = True)\n",
        "                      df[col].replace('পরিচিত দোকান থেকেই অনেকদিন যাবত বাজার করি এবং তারা হোম ডেলিভারি দিয়ে থাকে', 'Previously Known Shop and Home Delivery Option', inplace = True)\n",
        "                      df[col].replace('বাকিতে নেয়ার লিমিট কম এবং অল্প কয়েকদিনের জন্য এই লিমিট পাওয়া যায়।', 'Low Limit', inplace = True)\n",
        "                      df[col].replace('অন্য দোকান থেকে আপনাদের পন্যের দাম বেশী।', 'Expensive', inplace = True)\n",
        "                      df[col].replace('অন্যান্য', 'Others', inplace = True)\n",
        "                      df[col].replace('শ্রমিকদের মধ্যে খুব বেশী সচেতনতা নেই আপন শপ নিয়ে।', 'Not Familiar', inplace = True)"
      ],
      "metadata": {
        "id": "_pG79ZOe3WDF"
      },
      "execution_count": null,
      "outputs": []
    },
    {
      "cell_type": "code",
      "source": [
        "for col in df[['shop_from_1', 'shop_from_2', 'shop_from_3',\n",
        "       'shop_from_7', 'shop_from_8', 'shop_from_9', 'shop_from_10']]:                      \n",
        "                      df[col].replace('পরিচিত দোকান থেকে', 'Previously Known Shop', inplace = True)\n",
        "                      df[col].replace('যে দোকান থেকে বাকি নিতে পারি', 'Credit Shop', inplace = True)\n",
        "                      df[col].replace('যে দোকান থেকে ছাড় পেয়ে থাকি', 'Discount Shop', inplace = True)\n",
        "                      df[col].replace('ফ্যাক্টরির সামনের দোকান থেকে', 'Shop Next to Factory', inplace = True)\n",
        "                      df[col].replace('আমার পরিবারের আরেকজন বাজার করে', 'Someone Else Shops', inplace = True)\n",
        "                      df[col].replace('আমি বাজার করি না', 'I dont Shop', inplace = True)\n",
        "                      df[col].replace('বাজার করার দরকার হয় না', 'No need to shop', inplace = True)\n",
        "                      df[col].replace('অন্যান্য', 'Others', inplace = True)\n",
        "                      "
      ],
      "metadata": {
        "id": "EMm5L_ym1Euc"
      },
      "execution_count": null,
      "outputs": []
    },
    {
      "cell_type": "markdown",
      "source": [
        "# CREATE 3 NEW DATAFRAMES\n",
        "\n",
        "1.   General Dataframe\n",
        "\n",
        "1.   No Customer Dataframe\n",
        "2.   Customer Dataframe\n",
        "\n",
        "\n",
        "\n"
      ],
      "metadata": {
        "id": "Y1mT7yJN_eHD"
      }
    },
    {
      "cell_type": "code",
      "source": [
        "General = df\n",
        "General.head()"
      ],
      "metadata": {
        "colab": {
          "base_uri": "https://localhost:8080/"
        },
        "id": "IVcRgdyhVvfh",
        "outputId": "39d62d2c-ae80-4718-ae5a-cbb14659c707"
      },
      "execution_count": null,
      "outputs": [
        {
          "output_type": "execute_result",
          "data": {
            "text/plain": [
              "    Timestamp                         Factory name  Factory id   Gender  Age  \\\n",
              "0  2022-10-23  Interfab Shirt Manufacturing Limited    ST0023\\t    male   30   \n",
              "1  2022-10-23                   Ananta Garments Ltd    GMUOP613  female   23   \n",
              "2  2022-10-24  Interfab Shirt Manufacturing Limited      st0017    male   26   \n",
              "3  2022-10-24                            SQ Station       34159  female   29   \n",
              "4  2022-10-24                            SQ Station       39190    male   24   \n",
              "\n",
              "  Familiarity Do you shop from apon?  \\\n",
              "0         yes                    yes   \n",
              "1         yes                    yes   \n",
              "2         yes                    yes   \n",
              "3         yes                     no   \n",
              "4         yes                    yes   \n",
              "\n",
              "  Do you know that you can buy via credit in Apon?  \\\n",
              "0                                              yes   \n",
              "1                                              yes   \n",
              "2                                              yes   \n",
              "3                                              NaN   \n",
              "4                                              yes   \n",
              "\n",
              "  Can you buy via credit in Apon?  Credit Limit  ... no_shop_reason_7  \\\n",
              "0                             yes        4000.0  ...              NaN   \n",
              "1                             yes        2400.0  ...              NaN   \n",
              "2                             yes        5250.0  ...              NaN   \n",
              "3                             NaN           NaN  ...    Low Inventory   \n",
              "4                             yes        2219.0  ...              NaN   \n",
              "\n",
              "   no_shop_reason_8 no_shop_reason_9            shop_from_1  shop_from_2  \\\n",
              "0               NaN              NaN  Previously Known Shop         None   \n",
              "1               NaN              NaN  Previously Known Shop  Credit Shop   \n",
              "2               NaN              NaN  Previously Known Shop         None   \n",
              "3              None             None                    NaN          NaN   \n",
              "4               NaN              NaN            Credit Shop         None   \n",
              "\n",
              "  shop_from_3            shop_from_7 shop_from_8 shop_from_9 shop_from_10  \n",
              "0        None                    NaN         NaN         NaN          NaN  \n",
              "1        None                    NaN         NaN         NaN          NaN  \n",
              "2        None                    NaN         NaN         NaN          NaN  \n",
              "3         NaN  Previously Known Shop        None        None         None  \n",
              "4        None                    NaN         NaN         NaN          NaN  \n",
              "\n",
              "[5 rows x 40 columns]"
            ],
            "text/html": [
              "\n",
              "  <div id=\"df-6b633771-6d05-4677-a93e-f76922a3fa0e\">\n",
              "    <div class=\"colab-df-container\">\n",
              "      <div>\n",
              "<style scoped>\n",
              "    .dataframe tbody tr th:only-of-type {\n",
              "        vertical-align: middle;\n",
              "    }\n",
              "\n",
              "    .dataframe tbody tr th {\n",
              "        vertical-align: top;\n",
              "    }\n",
              "\n",
              "    .dataframe thead th {\n",
              "        text-align: right;\n",
              "    }\n",
              "</style>\n",
              "<table border=\"1\" class=\"dataframe\">\n",
              "  <thead>\n",
              "    <tr style=\"text-align: right;\">\n",
              "      <th></th>\n",
              "      <th>Timestamp</th>\n",
              "      <th>Factory name</th>\n",
              "      <th>Factory id</th>\n",
              "      <th>Gender</th>\n",
              "      <th>Age</th>\n",
              "      <th>Familiarity</th>\n",
              "      <th>Do you shop from apon?</th>\n",
              "      <th>Do you know that you can buy via credit in Apon?</th>\n",
              "      <th>Can you buy via credit in Apon?</th>\n",
              "      <th>Credit Limit</th>\n",
              "      <th>...</th>\n",
              "      <th>no_shop_reason_7</th>\n",
              "      <th>no_shop_reason_8</th>\n",
              "      <th>no_shop_reason_9</th>\n",
              "      <th>shop_from_1</th>\n",
              "      <th>shop_from_2</th>\n",
              "      <th>shop_from_3</th>\n",
              "      <th>shop_from_7</th>\n",
              "      <th>shop_from_8</th>\n",
              "      <th>shop_from_9</th>\n",
              "      <th>shop_from_10</th>\n",
              "    </tr>\n",
              "  </thead>\n",
              "  <tbody>\n",
              "    <tr>\n",
              "      <th>0</th>\n",
              "      <td>2022-10-23</td>\n",
              "      <td>Interfab Shirt Manufacturing Limited</td>\n",
              "      <td>ST0023\\t</td>\n",
              "      <td>male</td>\n",
              "      <td>30</td>\n",
              "      <td>yes</td>\n",
              "      <td>yes</td>\n",
              "      <td>yes</td>\n",
              "      <td>yes</td>\n",
              "      <td>4000.0</td>\n",
              "      <td>...</td>\n",
              "      <td>NaN</td>\n",
              "      <td>NaN</td>\n",
              "      <td>NaN</td>\n",
              "      <td>Previously Known Shop</td>\n",
              "      <td>None</td>\n",
              "      <td>None</td>\n",
              "      <td>NaN</td>\n",
              "      <td>NaN</td>\n",
              "      <td>NaN</td>\n",
              "      <td>NaN</td>\n",
              "    </tr>\n",
              "    <tr>\n",
              "      <th>1</th>\n",
              "      <td>2022-10-23</td>\n",
              "      <td>Ananta Garments Ltd</td>\n",
              "      <td>GMUOP613</td>\n",
              "      <td>female</td>\n",
              "      <td>23</td>\n",
              "      <td>yes</td>\n",
              "      <td>yes</td>\n",
              "      <td>yes</td>\n",
              "      <td>yes</td>\n",
              "      <td>2400.0</td>\n",
              "      <td>...</td>\n",
              "      <td>NaN</td>\n",
              "      <td>NaN</td>\n",
              "      <td>NaN</td>\n",
              "      <td>Previously Known Shop</td>\n",
              "      <td>Credit Shop</td>\n",
              "      <td>None</td>\n",
              "      <td>NaN</td>\n",
              "      <td>NaN</td>\n",
              "      <td>NaN</td>\n",
              "      <td>NaN</td>\n",
              "    </tr>\n",
              "    <tr>\n",
              "      <th>2</th>\n",
              "      <td>2022-10-24</td>\n",
              "      <td>Interfab Shirt Manufacturing Limited</td>\n",
              "      <td>st0017</td>\n",
              "      <td>male</td>\n",
              "      <td>26</td>\n",
              "      <td>yes</td>\n",
              "      <td>yes</td>\n",
              "      <td>yes</td>\n",
              "      <td>yes</td>\n",
              "      <td>5250.0</td>\n",
              "      <td>...</td>\n",
              "      <td>NaN</td>\n",
              "      <td>NaN</td>\n",
              "      <td>NaN</td>\n",
              "      <td>Previously Known Shop</td>\n",
              "      <td>None</td>\n",
              "      <td>None</td>\n",
              "      <td>NaN</td>\n",
              "      <td>NaN</td>\n",
              "      <td>NaN</td>\n",
              "      <td>NaN</td>\n",
              "    </tr>\n",
              "    <tr>\n",
              "      <th>3</th>\n",
              "      <td>2022-10-24</td>\n",
              "      <td>SQ Station</td>\n",
              "      <td>34159</td>\n",
              "      <td>female</td>\n",
              "      <td>29</td>\n",
              "      <td>yes</td>\n",
              "      <td>no</td>\n",
              "      <td>NaN</td>\n",
              "      <td>NaN</td>\n",
              "      <td>NaN</td>\n",
              "      <td>...</td>\n",
              "      <td>Low Inventory</td>\n",
              "      <td>None</td>\n",
              "      <td>None</td>\n",
              "      <td>NaN</td>\n",
              "      <td>NaN</td>\n",
              "      <td>NaN</td>\n",
              "      <td>Previously Known Shop</td>\n",
              "      <td>None</td>\n",
              "      <td>None</td>\n",
              "      <td>None</td>\n",
              "    </tr>\n",
              "    <tr>\n",
              "      <th>4</th>\n",
              "      <td>2022-10-24</td>\n",
              "      <td>SQ Station</td>\n",
              "      <td>39190</td>\n",
              "      <td>male</td>\n",
              "      <td>24</td>\n",
              "      <td>yes</td>\n",
              "      <td>yes</td>\n",
              "      <td>yes</td>\n",
              "      <td>yes</td>\n",
              "      <td>2219.0</td>\n",
              "      <td>...</td>\n",
              "      <td>NaN</td>\n",
              "      <td>NaN</td>\n",
              "      <td>NaN</td>\n",
              "      <td>Credit Shop</td>\n",
              "      <td>None</td>\n",
              "      <td>None</td>\n",
              "      <td>NaN</td>\n",
              "      <td>NaN</td>\n",
              "      <td>NaN</td>\n",
              "      <td>NaN</td>\n",
              "    </tr>\n",
              "  </tbody>\n",
              "</table>\n",
              "<p>5 rows × 40 columns</p>\n",
              "</div>\n",
              "      <button class=\"colab-df-convert\" onclick=\"convertToInteractive('df-6b633771-6d05-4677-a93e-f76922a3fa0e')\"\n",
              "              title=\"Convert this dataframe to an interactive table.\"\n",
              "              style=\"display:none;\">\n",
              "        \n",
              "  <svg xmlns=\"http://www.w3.org/2000/svg\" height=\"24px\"viewBox=\"0 0 24 24\"\n",
              "       width=\"24px\">\n",
              "    <path d=\"M0 0h24v24H0V0z\" fill=\"none\"/>\n",
              "    <path d=\"M18.56 5.44l.94 2.06.94-2.06 2.06-.94-2.06-.94-.94-2.06-.94 2.06-2.06.94zm-11 1L8.5 8.5l.94-2.06 2.06-.94-2.06-.94L8.5 2.5l-.94 2.06-2.06.94zm10 10l.94 2.06.94-2.06 2.06-.94-2.06-.94-.94-2.06-.94 2.06-2.06.94z\"/><path d=\"M17.41 7.96l-1.37-1.37c-.4-.4-.92-.59-1.43-.59-.52 0-1.04.2-1.43.59L10.3 9.45l-7.72 7.72c-.78.78-.78 2.05 0 2.83L4 21.41c.39.39.9.59 1.41.59.51 0 1.02-.2 1.41-.59l7.78-7.78 2.81-2.81c.8-.78.8-2.07 0-2.86zM5.41 20L4 18.59l7.72-7.72 1.47 1.35L5.41 20z\"/>\n",
              "  </svg>\n",
              "      </button>\n",
              "      \n",
              "  <style>\n",
              "    .colab-df-container {\n",
              "      display:flex;\n",
              "      flex-wrap:wrap;\n",
              "      gap: 12px;\n",
              "    }\n",
              "\n",
              "    .colab-df-convert {\n",
              "      background-color: #E8F0FE;\n",
              "      border: none;\n",
              "      border-radius: 50%;\n",
              "      cursor: pointer;\n",
              "      display: none;\n",
              "      fill: #1967D2;\n",
              "      height: 32px;\n",
              "      padding: 0 0 0 0;\n",
              "      width: 32px;\n",
              "    }\n",
              "\n",
              "    .colab-df-convert:hover {\n",
              "      background-color: #E2EBFA;\n",
              "      box-shadow: 0px 1px 2px rgba(60, 64, 67, 0.3), 0px 1px 3px 1px rgba(60, 64, 67, 0.15);\n",
              "      fill: #174EA6;\n",
              "    }\n",
              "\n",
              "    [theme=dark] .colab-df-convert {\n",
              "      background-color: #3B4455;\n",
              "      fill: #D2E3FC;\n",
              "    }\n",
              "\n",
              "    [theme=dark] .colab-df-convert:hover {\n",
              "      background-color: #434B5C;\n",
              "      box-shadow: 0px 1px 3px 1px rgba(0, 0, 0, 0.15);\n",
              "      filter: drop-shadow(0px 1px 2px rgba(0, 0, 0, 0.3));\n",
              "      fill: #FFFFFF;\n",
              "    }\n",
              "  </style>\n",
              "\n",
              "      <script>\n",
              "        const buttonEl =\n",
              "          document.querySelector('#df-6b633771-6d05-4677-a93e-f76922a3fa0e button.colab-df-convert');\n",
              "        buttonEl.style.display =\n",
              "          google.colab.kernel.accessAllowed ? 'block' : 'none';\n",
              "\n",
              "        async function convertToInteractive(key) {\n",
              "          const element = document.querySelector('#df-6b633771-6d05-4677-a93e-f76922a3fa0e');\n",
              "          const dataTable =\n",
              "            await google.colab.kernel.invokeFunction('convertToInteractive',\n",
              "                                                     [key], {});\n",
              "          if (!dataTable) return;\n",
              "\n",
              "          const docLinkHtml = 'Like what you see? Visit the ' +\n",
              "            '<a target=\"_blank\" href=https://colab.research.google.com/notebooks/data_table.ipynb>data table notebook</a>'\n",
              "            + ' to learn more about interactive tables.';\n",
              "          element.innerHTML = '';\n",
              "          dataTable['output_type'] = 'display_data';\n",
              "          await google.colab.output.renderOutput(dataTable, element);\n",
              "          const docLink = document.createElement('div');\n",
              "          docLink.innerHTML = docLinkHtml;\n",
              "          element.appendChild(docLink);\n",
              "        }\n",
              "      </script>\n",
              "    </div>\n",
              "  </div>\n",
              "  "
            ]
          },
          "metadata": {},
          "execution_count": 39
        }
      ]
    },
    {
      "cell_type": "code",
      "source": [
        "mask = df['Do you shop from apon?'].values == 'no'\n",
        "Not_customers = df.loc[mask]\n",
        "Not_customers = Not_customers[['no_shop_reason_1', 'no_shop_reason_2', 'no_shop_reason_3',\n",
        "       'no_shop_reason_7', 'no_shop_reason_8', 'no_shop_reason_9',\n",
        "       'shop_from_1', 'shop_from_2', 'shop_from_3', 'shop_from_7',\n",
        "       'shop_from_8', 'shop_from_9', 'shop_from_10']]\n",
        "\n",
        "Not_customers.head()"
      ],
      "metadata": {
        "colab": {
          "base_uri": "https://localhost:8080/"
        },
        "id": "NMPl4I04VvbE",
        "outputId": "0682df46-87f8-46d8-adb6-211ec84ac051"
      },
      "execution_count": null,
      "outputs": [
        {
          "output_type": "execute_result",
          "data": {
            "text/plain": [
              "   no_shop_reason_1 no_shop_reason_2 no_shop_reason_3 no_shop_reason_7  \\\n",
              "3               NaN              NaN              NaN    Low Inventory   \n",
              "38              NaN              NaN              NaN           Others   \n",
              "42              NaN              NaN              NaN     Not Familiar   \n",
              "43              NaN              NaN              NaN    Low Inventory   \n",
              "44              NaN              NaN              NaN    Low Inventory   \n",
              "\n",
              "                                  no_shop_reason_8 no_shop_reason_9  \\\n",
              "3                                             None             None   \n",
              "38                                            None             None   \n",
              "42                                   Far From Home             None   \n",
              "43  Previously Known Shop and Home Delivery Option             None   \n",
              "44                                       Low Limit             None   \n",
              "\n",
              "   shop_from_1 shop_from_2 shop_from_3            shop_from_7  \\\n",
              "3          NaN         NaN         NaN  Previously Known Shop   \n",
              "38         NaN         NaN         NaN   Shop Next to Factory   \n",
              "42         NaN         NaN         NaN  Previously Known Shop   \n",
              "43         NaN         NaN         NaN  Previously Known Shop   \n",
              "44         NaN         NaN         NaN   Shop Next to Factory   \n",
              "\n",
              "              shop_from_8 shop_from_9 shop_from_10  \n",
              "3                    None        None         None  \n",
              "38                   None        None         None  \n",
              "42            Credit Shop        None         None  \n",
              "43                 Others        None         None  \n",
              "44  Previously Known Shop        None         None  "
            ],
            "text/html": [
              "\n",
              "  <div id=\"df-c1e48c20-5e95-40a8-ace0-e93a9b3f8df5\">\n",
              "    <div class=\"colab-df-container\">\n",
              "      <div>\n",
              "<style scoped>\n",
              "    .dataframe tbody tr th:only-of-type {\n",
              "        vertical-align: middle;\n",
              "    }\n",
              "\n",
              "    .dataframe tbody tr th {\n",
              "        vertical-align: top;\n",
              "    }\n",
              "\n",
              "    .dataframe thead th {\n",
              "        text-align: right;\n",
              "    }\n",
              "</style>\n",
              "<table border=\"1\" class=\"dataframe\">\n",
              "  <thead>\n",
              "    <tr style=\"text-align: right;\">\n",
              "      <th></th>\n",
              "      <th>no_shop_reason_1</th>\n",
              "      <th>no_shop_reason_2</th>\n",
              "      <th>no_shop_reason_3</th>\n",
              "      <th>no_shop_reason_7</th>\n",
              "      <th>no_shop_reason_8</th>\n",
              "      <th>no_shop_reason_9</th>\n",
              "      <th>shop_from_1</th>\n",
              "      <th>shop_from_2</th>\n",
              "      <th>shop_from_3</th>\n",
              "      <th>shop_from_7</th>\n",
              "      <th>shop_from_8</th>\n",
              "      <th>shop_from_9</th>\n",
              "      <th>shop_from_10</th>\n",
              "    </tr>\n",
              "  </thead>\n",
              "  <tbody>\n",
              "    <tr>\n",
              "      <th>3</th>\n",
              "      <td>NaN</td>\n",
              "      <td>NaN</td>\n",
              "      <td>NaN</td>\n",
              "      <td>Low Inventory</td>\n",
              "      <td>None</td>\n",
              "      <td>None</td>\n",
              "      <td>NaN</td>\n",
              "      <td>NaN</td>\n",
              "      <td>NaN</td>\n",
              "      <td>Previously Known Shop</td>\n",
              "      <td>None</td>\n",
              "      <td>None</td>\n",
              "      <td>None</td>\n",
              "    </tr>\n",
              "    <tr>\n",
              "      <th>38</th>\n",
              "      <td>NaN</td>\n",
              "      <td>NaN</td>\n",
              "      <td>NaN</td>\n",
              "      <td>Others</td>\n",
              "      <td>None</td>\n",
              "      <td>None</td>\n",
              "      <td>NaN</td>\n",
              "      <td>NaN</td>\n",
              "      <td>NaN</td>\n",
              "      <td>Shop Next to Factory</td>\n",
              "      <td>None</td>\n",
              "      <td>None</td>\n",
              "      <td>None</td>\n",
              "    </tr>\n",
              "    <tr>\n",
              "      <th>42</th>\n",
              "      <td>NaN</td>\n",
              "      <td>NaN</td>\n",
              "      <td>NaN</td>\n",
              "      <td>Not Familiar</td>\n",
              "      <td>Far From Home</td>\n",
              "      <td>None</td>\n",
              "      <td>NaN</td>\n",
              "      <td>NaN</td>\n",
              "      <td>NaN</td>\n",
              "      <td>Previously Known Shop</td>\n",
              "      <td>Credit Shop</td>\n",
              "      <td>None</td>\n",
              "      <td>None</td>\n",
              "    </tr>\n",
              "    <tr>\n",
              "      <th>43</th>\n",
              "      <td>NaN</td>\n",
              "      <td>NaN</td>\n",
              "      <td>NaN</td>\n",
              "      <td>Low Inventory</td>\n",
              "      <td>Previously Known Shop and Home Delivery Option</td>\n",
              "      <td>None</td>\n",
              "      <td>NaN</td>\n",
              "      <td>NaN</td>\n",
              "      <td>NaN</td>\n",
              "      <td>Previously Known Shop</td>\n",
              "      <td>Others</td>\n",
              "      <td>None</td>\n",
              "      <td>None</td>\n",
              "    </tr>\n",
              "    <tr>\n",
              "      <th>44</th>\n",
              "      <td>NaN</td>\n",
              "      <td>NaN</td>\n",
              "      <td>NaN</td>\n",
              "      <td>Low Inventory</td>\n",
              "      <td>Low Limit</td>\n",
              "      <td>None</td>\n",
              "      <td>NaN</td>\n",
              "      <td>NaN</td>\n",
              "      <td>NaN</td>\n",
              "      <td>Shop Next to Factory</td>\n",
              "      <td>Previously Known Shop</td>\n",
              "      <td>None</td>\n",
              "      <td>None</td>\n",
              "    </tr>\n",
              "  </tbody>\n",
              "</table>\n",
              "</div>\n",
              "      <button class=\"colab-df-convert\" onclick=\"convertToInteractive('df-c1e48c20-5e95-40a8-ace0-e93a9b3f8df5')\"\n",
              "              title=\"Convert this dataframe to an interactive table.\"\n",
              "              style=\"display:none;\">\n",
              "        \n",
              "  <svg xmlns=\"http://www.w3.org/2000/svg\" height=\"24px\"viewBox=\"0 0 24 24\"\n",
              "       width=\"24px\">\n",
              "    <path d=\"M0 0h24v24H0V0z\" fill=\"none\"/>\n",
              "    <path d=\"M18.56 5.44l.94 2.06.94-2.06 2.06-.94-2.06-.94-.94-2.06-.94 2.06-2.06.94zm-11 1L8.5 8.5l.94-2.06 2.06-.94-2.06-.94L8.5 2.5l-.94 2.06-2.06.94zm10 10l.94 2.06.94-2.06 2.06-.94-2.06-.94-.94-2.06-.94 2.06-2.06.94z\"/><path d=\"M17.41 7.96l-1.37-1.37c-.4-.4-.92-.59-1.43-.59-.52 0-1.04.2-1.43.59L10.3 9.45l-7.72 7.72c-.78.78-.78 2.05 0 2.83L4 21.41c.39.39.9.59 1.41.59.51 0 1.02-.2 1.41-.59l7.78-7.78 2.81-2.81c.8-.78.8-2.07 0-2.86zM5.41 20L4 18.59l7.72-7.72 1.47 1.35L5.41 20z\"/>\n",
              "  </svg>\n",
              "      </button>\n",
              "      \n",
              "  <style>\n",
              "    .colab-df-container {\n",
              "      display:flex;\n",
              "      flex-wrap:wrap;\n",
              "      gap: 12px;\n",
              "    }\n",
              "\n",
              "    .colab-df-convert {\n",
              "      background-color: #E8F0FE;\n",
              "      border: none;\n",
              "      border-radius: 50%;\n",
              "      cursor: pointer;\n",
              "      display: none;\n",
              "      fill: #1967D2;\n",
              "      height: 32px;\n",
              "      padding: 0 0 0 0;\n",
              "      width: 32px;\n",
              "    }\n",
              "\n",
              "    .colab-df-convert:hover {\n",
              "      background-color: #E2EBFA;\n",
              "      box-shadow: 0px 1px 2px rgba(60, 64, 67, 0.3), 0px 1px 3px 1px rgba(60, 64, 67, 0.15);\n",
              "      fill: #174EA6;\n",
              "    }\n",
              "\n",
              "    [theme=dark] .colab-df-convert {\n",
              "      background-color: #3B4455;\n",
              "      fill: #D2E3FC;\n",
              "    }\n",
              "\n",
              "    [theme=dark] .colab-df-convert:hover {\n",
              "      background-color: #434B5C;\n",
              "      box-shadow: 0px 1px 3px 1px rgba(0, 0, 0, 0.15);\n",
              "      filter: drop-shadow(0px 1px 2px rgba(0, 0, 0, 0.3));\n",
              "      fill: #FFFFFF;\n",
              "    }\n",
              "  </style>\n",
              "\n",
              "      <script>\n",
              "        const buttonEl =\n",
              "          document.querySelector('#df-c1e48c20-5e95-40a8-ace0-e93a9b3f8df5 button.colab-df-convert');\n",
              "        buttonEl.style.display =\n",
              "          google.colab.kernel.accessAllowed ? 'block' : 'none';\n",
              "\n",
              "        async function convertToInteractive(key) {\n",
              "          const element = document.querySelector('#df-c1e48c20-5e95-40a8-ace0-e93a9b3f8df5');\n",
              "          const dataTable =\n",
              "            await google.colab.kernel.invokeFunction('convertToInteractive',\n",
              "                                                     [key], {});\n",
              "          if (!dataTable) return;\n",
              "\n",
              "          const docLinkHtml = 'Like what you see? Visit the ' +\n",
              "            '<a target=\"_blank\" href=https://colab.research.google.com/notebooks/data_table.ipynb>data table notebook</a>'\n",
              "            + ' to learn more about interactive tables.';\n",
              "          element.innerHTML = '';\n",
              "          dataTable['output_type'] = 'display_data';\n",
              "          await google.colab.output.renderOutput(dataTable, element);\n",
              "          const docLink = document.createElement('div');\n",
              "          docLink.innerHTML = docLinkHtml;\n",
              "          element.appendChild(docLink);\n",
              "        }\n",
              "      </script>\n",
              "    </div>\n",
              "  </div>\n",
              "  "
            ]
          },
          "metadata": {},
          "execution_count": 40
        }
      ]
    },
    {
      "cell_type": "code",
      "source": [
        "mask = df['Do you shop from apon?'].values == 'yes'\n",
        "Customers = df.loc[mask]\n",
        "Customers = Customers[['Can you buy via credit in Apon?', 'Credit Limit', 'Regularity',\n",
        "       'Experience', 'Day', 'buying_reason_1', 'buying_reason_2',\n",
        "       'buying_reason_3', 'buying_reason_4', 'Knowledge_1', 'Knowledge_2',\n",
        "       'Knowledge_3', 'Knowledge_4', 'Knowledge_5', 'product_list_1',\n",
        "       'product_list_2', 'product_list_3', 'product_list_4', 'product_list_5']]\n",
        "\n",
        "Customers.head()"
      ],
      "metadata": {
        "colab": {
          "base_uri": "https://localhost:8080/"
        },
        "id": "JXBIlYMyVvW8",
        "outputId": "63478559-9f5a-4765-ea6d-c50d340a2362"
      },
      "execution_count": null,
      "outputs": [
        {
          "output_type": "execute_result",
          "data": {
            "text/plain": [
              "  Can you buy via credit in Apon?  Credit Limit Regularity  Experience  \\\n",
              "0                             yes        4000.0         no         3.0   \n",
              "1                             yes        2400.0        yes         5.0   \n",
              "2                             yes        5250.0        yes         4.0   \n",
              "4                             yes        2219.0        yes         4.0   \n",
              "5                             yes        2694.0        yes         4.0   \n",
              "\n",
              "      Day buying_reason_1 buying_reason_2 buying_reason_3 buying_reason_4  \\\n",
              "0  Sunday             NaN             NaN             NaN             NaN   \n",
              "1  Sunday        Discount     Time Saving   Credit_System  Good Behaviour   \n",
              "2  Monday        Discount       Insurance            None            None   \n",
              "4  Monday             NaN             NaN             NaN             NaN   \n",
              "5  Monday             NaN             NaN             NaN             NaN   \n",
              "\n",
              "               Knowledge_1             Knowledge_2    Knowledge_3  \\\n",
              "0  Shop within the Factory                    None           None   \n",
              "1  Shop within the Factory  Daily Necessities Shop      Insurance   \n",
              "2  Shop within the Factory  Daily Necessities Shop      Insurance   \n",
              "4   Daily Necessities Shop           Credit System  Discount Shop   \n",
              "5   Daily Necessities Shop               Insurance  Credit System   \n",
              "\n",
              "     Knowledge_4    Knowledge_5     product_list_1 product_list_2  \\\n",
              "0           None           None               Food           None   \n",
              "1  Credit System  Discount Shop               Food           None   \n",
              "2  Credit System  Discount Shop               Food           None   \n",
              "4           None           None  Beauty and Health           None   \n",
              "5  Discount Shop           None  Beauty and Health           Food   \n",
              "\n",
              "  product_list_3 product_list_4 product_list_5  \n",
              "0           None           None           None  \n",
              "1           None           None           None  \n",
              "2           None           None           None  \n",
              "4           None           None           None  \n",
              "5           None           None           None  "
            ],
            "text/html": [
              "\n",
              "  <div id=\"df-4f17a4e9-3f11-4301-b5b0-7f5998f80e4a\">\n",
              "    <div class=\"colab-df-container\">\n",
              "      <div>\n",
              "<style scoped>\n",
              "    .dataframe tbody tr th:only-of-type {\n",
              "        vertical-align: middle;\n",
              "    }\n",
              "\n",
              "    .dataframe tbody tr th {\n",
              "        vertical-align: top;\n",
              "    }\n",
              "\n",
              "    .dataframe thead th {\n",
              "        text-align: right;\n",
              "    }\n",
              "</style>\n",
              "<table border=\"1\" class=\"dataframe\">\n",
              "  <thead>\n",
              "    <tr style=\"text-align: right;\">\n",
              "      <th></th>\n",
              "      <th>Can you buy via credit in Apon?</th>\n",
              "      <th>Credit Limit</th>\n",
              "      <th>Regularity</th>\n",
              "      <th>Experience</th>\n",
              "      <th>Day</th>\n",
              "      <th>buying_reason_1</th>\n",
              "      <th>buying_reason_2</th>\n",
              "      <th>buying_reason_3</th>\n",
              "      <th>buying_reason_4</th>\n",
              "      <th>Knowledge_1</th>\n",
              "      <th>Knowledge_2</th>\n",
              "      <th>Knowledge_3</th>\n",
              "      <th>Knowledge_4</th>\n",
              "      <th>Knowledge_5</th>\n",
              "      <th>product_list_1</th>\n",
              "      <th>product_list_2</th>\n",
              "      <th>product_list_3</th>\n",
              "      <th>product_list_4</th>\n",
              "      <th>product_list_5</th>\n",
              "    </tr>\n",
              "  </thead>\n",
              "  <tbody>\n",
              "    <tr>\n",
              "      <th>0</th>\n",
              "      <td>yes</td>\n",
              "      <td>4000.0</td>\n",
              "      <td>no</td>\n",
              "      <td>3.0</td>\n",
              "      <td>Sunday</td>\n",
              "      <td>NaN</td>\n",
              "      <td>NaN</td>\n",
              "      <td>NaN</td>\n",
              "      <td>NaN</td>\n",
              "      <td>Shop within the Factory</td>\n",
              "      <td>None</td>\n",
              "      <td>None</td>\n",
              "      <td>None</td>\n",
              "      <td>None</td>\n",
              "      <td>Food</td>\n",
              "      <td>None</td>\n",
              "      <td>None</td>\n",
              "      <td>None</td>\n",
              "      <td>None</td>\n",
              "    </tr>\n",
              "    <tr>\n",
              "      <th>1</th>\n",
              "      <td>yes</td>\n",
              "      <td>2400.0</td>\n",
              "      <td>yes</td>\n",
              "      <td>5.0</td>\n",
              "      <td>Sunday</td>\n",
              "      <td>Discount</td>\n",
              "      <td>Time Saving</td>\n",
              "      <td>Credit_System</td>\n",
              "      <td>Good Behaviour</td>\n",
              "      <td>Shop within the Factory</td>\n",
              "      <td>Daily Necessities Shop</td>\n",
              "      <td>Insurance</td>\n",
              "      <td>Credit System</td>\n",
              "      <td>Discount Shop</td>\n",
              "      <td>Food</td>\n",
              "      <td>None</td>\n",
              "      <td>None</td>\n",
              "      <td>None</td>\n",
              "      <td>None</td>\n",
              "    </tr>\n",
              "    <tr>\n",
              "      <th>2</th>\n",
              "      <td>yes</td>\n",
              "      <td>5250.0</td>\n",
              "      <td>yes</td>\n",
              "      <td>4.0</td>\n",
              "      <td>Monday</td>\n",
              "      <td>Discount</td>\n",
              "      <td>Insurance</td>\n",
              "      <td>None</td>\n",
              "      <td>None</td>\n",
              "      <td>Shop within the Factory</td>\n",
              "      <td>Daily Necessities Shop</td>\n",
              "      <td>Insurance</td>\n",
              "      <td>Credit System</td>\n",
              "      <td>Discount Shop</td>\n",
              "      <td>Food</td>\n",
              "      <td>None</td>\n",
              "      <td>None</td>\n",
              "      <td>None</td>\n",
              "      <td>None</td>\n",
              "    </tr>\n",
              "    <tr>\n",
              "      <th>4</th>\n",
              "      <td>yes</td>\n",
              "      <td>2219.0</td>\n",
              "      <td>yes</td>\n",
              "      <td>4.0</td>\n",
              "      <td>Monday</td>\n",
              "      <td>NaN</td>\n",
              "      <td>NaN</td>\n",
              "      <td>NaN</td>\n",
              "      <td>NaN</td>\n",
              "      <td>Daily Necessities Shop</td>\n",
              "      <td>Credit System</td>\n",
              "      <td>Discount Shop</td>\n",
              "      <td>None</td>\n",
              "      <td>None</td>\n",
              "      <td>Beauty and Health</td>\n",
              "      <td>None</td>\n",
              "      <td>None</td>\n",
              "      <td>None</td>\n",
              "      <td>None</td>\n",
              "    </tr>\n",
              "    <tr>\n",
              "      <th>5</th>\n",
              "      <td>yes</td>\n",
              "      <td>2694.0</td>\n",
              "      <td>yes</td>\n",
              "      <td>4.0</td>\n",
              "      <td>Monday</td>\n",
              "      <td>NaN</td>\n",
              "      <td>NaN</td>\n",
              "      <td>NaN</td>\n",
              "      <td>NaN</td>\n",
              "      <td>Daily Necessities Shop</td>\n",
              "      <td>Insurance</td>\n",
              "      <td>Credit System</td>\n",
              "      <td>Discount Shop</td>\n",
              "      <td>None</td>\n",
              "      <td>Beauty and Health</td>\n",
              "      <td>Food</td>\n",
              "      <td>None</td>\n",
              "      <td>None</td>\n",
              "      <td>None</td>\n",
              "    </tr>\n",
              "  </tbody>\n",
              "</table>\n",
              "</div>\n",
              "      <button class=\"colab-df-convert\" onclick=\"convertToInteractive('df-4f17a4e9-3f11-4301-b5b0-7f5998f80e4a')\"\n",
              "              title=\"Convert this dataframe to an interactive table.\"\n",
              "              style=\"display:none;\">\n",
              "        \n",
              "  <svg xmlns=\"http://www.w3.org/2000/svg\" height=\"24px\"viewBox=\"0 0 24 24\"\n",
              "       width=\"24px\">\n",
              "    <path d=\"M0 0h24v24H0V0z\" fill=\"none\"/>\n",
              "    <path d=\"M18.56 5.44l.94 2.06.94-2.06 2.06-.94-2.06-.94-.94-2.06-.94 2.06-2.06.94zm-11 1L8.5 8.5l.94-2.06 2.06-.94-2.06-.94L8.5 2.5l-.94 2.06-2.06.94zm10 10l.94 2.06.94-2.06 2.06-.94-2.06-.94-.94-2.06-.94 2.06-2.06.94z\"/><path d=\"M17.41 7.96l-1.37-1.37c-.4-.4-.92-.59-1.43-.59-.52 0-1.04.2-1.43.59L10.3 9.45l-7.72 7.72c-.78.78-.78 2.05 0 2.83L4 21.41c.39.39.9.59 1.41.59.51 0 1.02-.2 1.41-.59l7.78-7.78 2.81-2.81c.8-.78.8-2.07 0-2.86zM5.41 20L4 18.59l7.72-7.72 1.47 1.35L5.41 20z\"/>\n",
              "  </svg>\n",
              "      </button>\n",
              "      \n",
              "  <style>\n",
              "    .colab-df-container {\n",
              "      display:flex;\n",
              "      flex-wrap:wrap;\n",
              "      gap: 12px;\n",
              "    }\n",
              "\n",
              "    .colab-df-convert {\n",
              "      background-color: #E8F0FE;\n",
              "      border: none;\n",
              "      border-radius: 50%;\n",
              "      cursor: pointer;\n",
              "      display: none;\n",
              "      fill: #1967D2;\n",
              "      height: 32px;\n",
              "      padding: 0 0 0 0;\n",
              "      width: 32px;\n",
              "    }\n",
              "\n",
              "    .colab-df-convert:hover {\n",
              "      background-color: #E2EBFA;\n",
              "      box-shadow: 0px 1px 2px rgba(60, 64, 67, 0.3), 0px 1px 3px 1px rgba(60, 64, 67, 0.15);\n",
              "      fill: #174EA6;\n",
              "    }\n",
              "\n",
              "    [theme=dark] .colab-df-convert {\n",
              "      background-color: #3B4455;\n",
              "      fill: #D2E3FC;\n",
              "    }\n",
              "\n",
              "    [theme=dark] .colab-df-convert:hover {\n",
              "      background-color: #434B5C;\n",
              "      box-shadow: 0px 1px 3px 1px rgba(0, 0, 0, 0.15);\n",
              "      filter: drop-shadow(0px 1px 2px rgba(0, 0, 0, 0.3));\n",
              "      fill: #FFFFFF;\n",
              "    }\n",
              "  </style>\n",
              "\n",
              "      <script>\n",
              "        const buttonEl =\n",
              "          document.querySelector('#df-4f17a4e9-3f11-4301-b5b0-7f5998f80e4a button.colab-df-convert');\n",
              "        buttonEl.style.display =\n",
              "          google.colab.kernel.accessAllowed ? 'block' : 'none';\n",
              "\n",
              "        async function convertToInteractive(key) {\n",
              "          const element = document.querySelector('#df-4f17a4e9-3f11-4301-b5b0-7f5998f80e4a');\n",
              "          const dataTable =\n",
              "            await google.colab.kernel.invokeFunction('convertToInteractive',\n",
              "                                                     [key], {});\n",
              "          if (!dataTable) return;\n",
              "\n",
              "          const docLinkHtml = 'Like what you see? Visit the ' +\n",
              "            '<a target=\"_blank\" href=https://colab.research.google.com/notebooks/data_table.ipynb>data table notebook</a>'\n",
              "            + ' to learn more about interactive tables.';\n",
              "          element.innerHTML = '';\n",
              "          dataTable['output_type'] = 'display_data';\n",
              "          await google.colab.output.renderOutput(dataTable, element);\n",
              "          const docLink = document.createElement('div');\n",
              "          docLink.innerHTML = docLinkHtml;\n",
              "          element.appendChild(docLink);\n",
              "        }\n",
              "      </script>\n",
              "    </div>\n",
              "  </div>\n",
              "  "
            ]
          },
          "metadata": {},
          "execution_count": 41
        }
      ]
    },
    {
      "cell_type": "markdown",
      "source": [
        "# ANALYSE"
      ],
      "metadata": {
        "id": "ZratK7hxDLlQ"
      }
    },
    {
      "cell_type": "markdown",
      "source": [
        "\n",
        "\n",
        "\n",
        "\n",
        "> GENERAL DATA ANALYSIS\n",
        "\n",
        "\n",
        "\n"
      ],
      "metadata": {
        "id": "e2NxqF7NDSQV"
      }
    },
    {
      "cell_type": "code",
      "source": [
        "General.columns"
      ],
      "metadata": {
        "colab": {
          "base_uri": "https://localhost:8080/"
        },
        "id": "AgLd03KRFr-o",
        "outputId": "8e49d8cf-8d14-4adc-bedd-f7c8b01161b4"
      },
      "execution_count": null,
      "outputs": [
        {
          "output_type": "execute_result",
          "data": {
            "text/plain": [
              "Index(['Timestamp', 'Factory name ', 'Factory id ', 'Gender', 'Age',\n",
              "       'Familiarity', 'Do you shop from apon?',\n",
              "       'Do you know that you can buy via credit in Apon?',\n",
              "       'Can you buy via credit in Apon?', 'Credit Limit', 'Regularity',\n",
              "       'Experience', 'Day', 'buying_reason_1', 'buying_reason_2',\n",
              "       'buying_reason_3', 'buying_reason_4', 'Knowledge_1', 'Knowledge_2',\n",
              "       'Knowledge_3', 'Knowledge_4', 'Knowledge_5', 'product_list_1',\n",
              "       'product_list_2', 'product_list_3', 'product_list_4', 'product_list_5',\n",
              "       'no_shop_reason_1', 'no_shop_reason_2', 'no_shop_reason_3',\n",
              "       'no_shop_reason_7', 'no_shop_reason_8', 'no_shop_reason_9',\n",
              "       'shop_from_1', 'shop_from_2', 'shop_from_3', 'shop_from_7',\n",
              "       'shop_from_8', 'shop_from_9', 'shop_from_10'],\n",
              "      dtype='object')"
            ]
          },
          "metadata": {},
          "execution_count": 42
        }
      ]
    },
    {
      "cell_type": "code",
      "source": [
        "total = float(len(General))\n",
        "ax = sns.countplot(x = 'Do you shop from apon?', data = General , palette = 'muted')\n",
        "plt.title('Number of Customers')\n",
        "\n",
        "for p in ax.patches:\n",
        "    percentage = '{:.1f}%'.format(100 * p.get_height()/total)\n",
        "    x = p.get_x() + p.get_width()\n",
        "    y = p.get_height()\n",
        "    ax.annotate(percentage, (x, y),ha='center')\n",
        "\n",
        "plt.show()"
      ],
      "metadata": {
        "colab": {
          "base_uri": "https://localhost:8080/",
          "height": 295
        },
        "id": "F5d5_sdtIVM6",
        "outputId": "d0156c4a-2a20-4e26-ff6f-08d4c06ff138"
      },
      "execution_count": null,
      "outputs": [
        {
          "output_type": "display_data",
          "data": {
            "text/plain": [
              "<Figure size 432x288 with 1 Axes>"
            ],
            "image/png": "[encoded data removed]"
          },
          "metadata": {
            "needs_background": "light"
          }
        }
      ]
    },
    {
      "cell_type": "code",
      "source": [
        "plt.figure(figsize= (15,4))\n",
        "plt.subplot(121)\n",
        "ax = sns.countplot(hue = 'Do you shop from apon?', x = 'Factory name ', data = General , palette = 'muted')\n",
        "plt.title('Do you shop from Apon?')\n",
        "\n",
        "for p in ax.patches:\n",
        "    percentage = '{:.1f}%'.format(100 * p.get_height()/total)\n",
        "    x = p.get_x() + p.get_width()\n",
        "    y = p.get_height()\n",
        "    ax.annotate(percentage, (x, y),ha='center')\n",
        "\n",
        "plt.xticks(rotation=90);\n",
        "\n",
        "\n",
        "\n"
      ],
      "metadata": {
        "id": "ktg6oajQEqwT",
        "colab": {
          "base_uri": "https://localhost:8080/",
          "height": 468
        },
        "outputId": "5f246471-2788-4210-f42e-10fdd47ef132"
      },
      "execution_count": null,
      "outputs": [
        {
          "output_type": "display_data",
          "data": {
            "text/plain": [
              "<Figure size 1080x288 with 1 Axes>"
            ],
            "image/png": "[encoded data removed]"
          },
          "metadata": {
            "needs_background": "light"
          }
        }
      ]
    },
    {
      "cell_type": "code",
      "source": [
        "sns.countplot(x = 'Factory name ', data = General , palette = 'muted')\n",
        "plt.title('Customers based on Factory Name')\n",
        "plt.xticks(rotation=90);\n",
        "\n",
        "plt.tight_layout\n",
        "plt.show()\n"
      ],
      "metadata": {
        "colab": {
          "base_uri": "https://localhost:8080/",
          "height": 468
        },
        "id": "3eX3WI39PjoU",
        "outputId": "cb89a561-4b37-4eab-9ed6-f5ccbc58cd69"
      },
      "execution_count": null,
      "outputs": [
        {
          "output_type": "display_data",
          "data": {
            "text/plain": [
              "<Figure size 432x288 with 1 Axes>"
            ],
            "image/png": "[encoded data removed]"
          },
          "metadata": {
            "needs_background": "light"
          }
        }
      ]
    },
    {
      "cell_type": "code",
      "source": [
        "ax = sns.countplot(hue = 'Do you shop from apon?', data = General , palette = 'muted', x = 'Familiarity')\n",
        "plt.title('Number of Customers based on Familiarity')\n",
        "\n",
        "for p in ax.patches:\n",
        "    percentage = '{:.1f}%'.format(100 * p.get_height()/total)\n",
        "    x = p.get_x() + p.get_width()\n",
        "    y = p.get_height()\n",
        "    ax.annotate(percentage, (x, y),ha='center')\n",
        "\n",
        "plt.show()"
      ],
      "metadata": {
        "colab": {
          "base_uri": "https://localhost:8080/",
          "height": 295
        },
        "id": "Dtp7HTEnC0qN",
        "outputId": "5938300d-2a6a-4411-a40f-dc69e1f1352e"
      },
      "execution_count": null,
      "outputs": [
        {
          "output_type": "display_data",
          "data": {
            "text/plain": [
              "<Figure size 432x288 with 1 Axes>"
            ],
            "image/png": "[encoded data removed]"
          },
          "metadata": {
            "needs_background": "light"
          }
        }
      ]
    },
    {
      "cell_type": "code",
      "source": [
        "ax = sns.countplot(hue = 'Do you shop from apon?', data = General , palette = 'muted', x = 'Do you know that you can buy via credit in Apon?')\n",
        "plt.title('Number of Customers based on Familiarity with the Credit System')\n",
        "\n",
        "for p in ax.patches:\n",
        "    percentage = '{:.1f}%'.format(100 * p.get_height()/total)\n",
        "    x = p.get_x() + p.get_width()\n",
        "    y = p.get_height()\n",
        "    ax.annotate(percentage, (x, y),ha='center')\n",
        "\n",
        "plt.show()"
      ],
      "metadata": {
        "colab": {
          "base_uri": "https://localhost:8080/",
          "height": 295
        },
        "id": "yKdZVtmxC0mG",
        "outputId": "19fd144c-a31b-41a8-a86a-bbd6cf655b6d"
      },
      "execution_count": null,
      "outputs": [
        {
          "output_type": "display_data",
          "data": {
            "text/plain": [
              "<Figure size 432x288 with 1 Axes>"
            ],
            "image/png": "[encoded data removed]"
          },
          "metadata": {
            "needs_background": "light"
          }
        }
      ]
    },
    {
      "cell_type": "code",
      "source": [
        "ax = sns.countplot(hue = 'Do you shop from apon?', data = General , palette = 'muted', x = 'Gender')\n",
        "plt.title('Number of Customers based on Gender')\n",
        "\n",
        "for p in ax.patches:\n",
        "    percentage = '{:.1f}%'.format(100 * p.get_height()/total)\n",
        "    x = p.get_x() + p.get_width()\n",
        "    y = p.get_height()\n",
        "    ax.annotate(percentage, (x, y),ha='center')\n",
        "\n",
        "plt.show()"
      ],
      "metadata": {
        "colab": {
          "base_uri": "https://localhost:8080/",
          "height": 295
        },
        "id": "XzX0e75EC0he",
        "outputId": "2d7469b5-4971-43e0-d9ee-a797f9e36501"
      },
      "execution_count": null,
      "outputs": [
        {
          "output_type": "display_data",
          "data": {
            "text/plain": [
              "<Figure size 432x288 with 1 Axes>"
            ],
            "image/png": "[encoded data removed]"
          },
          "metadata": {
            "needs_background": "light"
          }
        }
      ]
    },
    {
      "cell_type": "code",
      "source": [
        "ax = sns.countplot(data = General , palette = 'muted', x = 'Gender')\n",
        "plt.title('Gender of Factory workers')\n",
        "\n",
        "for p in ax.patches:\n",
        "    percentage = '{:.1f}%'.format(100 * p.get_height()/total)\n",
        "    x = p.get_x() + p.get_width()\n",
        "    y = p.get_height()\n",
        "    ax.annotate(percentage, (x, y),ha='center')\n",
        "\n",
        "plt.show()"
      ],
      "metadata": {
        "colab": {
          "base_uri": "https://localhost:8080/",
          "height": 295
        },
        "id": "THTiF8keC0dz",
        "outputId": "0026dc9d-97b0-4869-d82d-06fd12c4c683"
      },
      "execution_count": null,
      "outputs": [
        {
          "output_type": "display_data",
          "data": {
            "text/plain": [
              "<Figure size 432x288 with 1 Axes>"
            ],
            "image/png": "[encoded data removed]"
          },
          "metadata": {
            "needs_background": "light"
          }
        }
      ]
    },
    {
      "cell_type": "code",
      "source": [
        "ax = sns.boxplot(data = General , y = 'Age', x='Do you shop from apon?' )\n",
        "ax.set_ylim(1, 70)\n",
        "plt.title('Age')\n",
        "\n"
      ],
      "metadata": {
        "colab": {
          "base_uri": "https://localhost:8080/",
          "height": 313
        },
        "id": "9-RBJOqqC0aV",
        "outputId": "8610757f-0b39-4ee7-8193-6facb86be329"
      },
      "execution_count": null,
      "outputs": [
        {
          "output_type": "execute_result",
          "data": {
            "text/plain": [
              "Text(0.5, 1.0, 'Age')"
            ]
          },
          "metadata": {},
          "execution_count": 78
        },
        {
          "output_type": "display_data",
          "data": {
            "text/plain": [
              "<Figure size 432x288 with 1 Axes>"
            ],
            "image/png": "[encoded data removed]"
          },
          "metadata": {
            "needs_background": "light"
          }
        }
      ]
    },
    {
      "cell_type": "code",
      "source": [
        "ax = sns.histplot(data = General , x = 'Age', kde = True )\n",
        "ax.set_xlim(1, 70)\n",
        "plt.title('Age')"
      ],
      "metadata": {
        "colab": {
          "base_uri": "https://localhost:8080/",
          "height": 313
        },
        "id": "jqhuBVFZOWLr",
        "outputId": "d6d7842f-f8f8-4cb4-be1f-954dc478059a"
      },
      "execution_count": null,
      "outputs": [
        {
          "output_type": "execute_result",
          "data": {
            "text/plain": [
              "Text(0.5, 1.0, 'Age')"
            ]
          },
          "metadata": {},
          "execution_count": 93
        },
        {
          "output_type": "display_data",
          "data": {
            "text/plain": [
              "<Figure size 432x288 with 1 Axes>"
            ],
            "image/png": "[encoded data removed]"
          },
          "metadata": {
            "needs_background": "light"
          }
        }
      ]
    },
    {
      "cell_type": "markdown",
      "source": [
        "\n",
        "\n",
        "> Customer Data Analysis\n",
        "\n",
        "\n",
        "\n"
      ],
      "metadata": {
        "id": "v8dVqUnORu6n"
      }
    },
    {
      "cell_type": "code",
      "source": [
        "Customers.columns"
      ],
      "metadata": {
        "colab": {
          "base_uri": "https://localhost:8080/"
        },
        "id": "rKMYXGSzC0W3",
        "outputId": "ae860ad3-3986-4558-f2de-b69c1ab9bed5"
      },
      "execution_count": null,
      "outputs": [
        {
          "output_type": "execute_result",
          "data": {
            "text/plain": [
              "Index(['Can you buy via credit in Apon?', 'Credit Limit', 'Regularity',\n",
              "       'Experience', 'Day', 'buying_reason_1', 'buying_reason_2',\n",
              "       'buying_reason_3', 'buying_reason_4', 'Knowledge_1', 'Knowledge_2',\n",
              "       'Knowledge_3', 'Knowledge_4', 'Knowledge_5', 'product_list_1',\n",
              "       'product_list_2', 'product_list_3', 'product_list_4', 'product_list_5'],\n",
              "      dtype='object')"
            ]
          },
          "metadata": {},
          "execution_count": 50
        }
      ]
    },
    {
      "cell_type": "code",
      "source": [
        "total = float(len(Customers))"
      ],
      "metadata": {
        "id": "juNEGFYcS9d8"
      },
      "execution_count": null,
      "outputs": []
    },
    {
      "cell_type": "code",
      "source": [
        "ax = sns.countplot(data = Customers , palette = 'muted', x = 'Can you buy via credit in Apon?')\n",
        "plt.title('Can you buy via credit in Apon?')\n",
        "\n",
        "for p in ax.patches:\n",
        "    percentage = '{:.1f}%'.format(100 * p.get_height()/total)\n",
        "    x = p.get_x() + p.get_width()\n",
        "    y = p.get_height()\n",
        "    ax.annotate(percentage, (x, y),ha='center')\n",
        "\n",
        "plt.show()"
      ],
      "metadata": {
        "colab": {
          "base_uri": "https://localhost:8080/",
          "height": 295
        },
        "id": "LxaH-aa4L4KO",
        "outputId": "27da508e-cf54-4e62-a28d-5299deff548e"
      },
      "execution_count": null,
      "outputs": [
        {
          "output_type": "display_data",
          "data": {
            "text/plain": [
              "<Figure size 432x288 with 1 Axes>"
            ],
            "image/png": "[encoded data removed]"
          },
          "metadata": {
            "needs_background": "light"
          }
        }
      ]
    },
    {
      "cell_type": "code",
      "source": [
        "ax = sns.countplot(data = Customers , palette = 'muted', x = 'Regularity')\n",
        "plt.title('Do you shop Regularly?')\n",
        "\n",
        "for p in ax.patches:\n",
        "    percentage = '{:.1f}%'.format(100 * p.get_height()/total)\n",
        "    x = p.get_x() + p.get_width()\n",
        "    y = p.get_height()\n",
        "    ax.annotate(percentage, (x, y),ha='center')\n",
        "\n",
        "plt.show()"
      ],
      "metadata": {
        "colab": {
          "base_uri": "https://localhost:8080/",
          "height": 295
        },
        "id": "8lbHCeH_L4Gr",
        "outputId": "7a33b0fc-27ad-4ca3-9c3e-59268ed35aac"
      },
      "execution_count": null,
      "outputs": [
        {
          "output_type": "display_data",
          "data": {
            "text/plain": [
              "<Figure size 432x288 with 1 Axes>"
            ],
            "image/png": "[encoded data removed]"
          },
          "metadata": {
            "needs_background": "light"
          }
        }
      ]
    },
    {
      "cell_type": "code",
      "source": [
        "ax = sns.countplot(data = Customers , palette = 'muted', hue = 'Regularity', x = 'Experience')\n",
        "plt.title('Do you shop Regularly?')\n",
        "\n",
        "for p in ax.patches:\n",
        "    percentage = '{:.1f}%'.format(100 * p.get_height()/total)\n",
        "    x = p.get_x() + p.get_width()\n",
        "    y = p.get_height()\n",
        "    ax.annotate(percentage, (x, y),ha='center')\n",
        "\n",
        "plt.show()"
      ],
      "metadata": {
        "colab": {
          "base_uri": "https://localhost:8080/",
          "height": 295
        },
        "id": "g5t5os5BUnU6",
        "outputId": "976e766f-9a47-40b4-bbb9-30b42ae55f5f"
      },
      "execution_count": null,
      "outputs": [
        {
          "output_type": "display_data",
          "data": {
            "text/plain": [
              "<Figure size 432x288 with 1 Axes>"
            ],
            "image/png": "[encoded data removed]"
          },
          "metadata": {
            "needs_background": "light"
          }
        }
      ]
    },
    {
      "cell_type": "code",
      "source": [
        "ax = sns.histplot(data = Customers , palette = 'muted', hue = 'Regularity', x = 'Credit Limit')\n",
        "ax.set_xlim(1, 15000)\n",
        "plt.title('Do you shop Regularly?')\n",
        "\n"
      ],
      "metadata": {
        "colab": {
          "base_uri": "https://localhost:8080/",
          "height": 313
        },
        "id": "9CMs1lHTUzNJ",
        "outputId": "37ae1034-ce2b-41c2-8562-bd68e3b88d9f"
      },
      "execution_count": null,
      "outputs": [
        {
          "output_type": "execute_result",
          "data": {
            "text/plain": [
              "Text(0.5, 1.0, 'Do you shop Regularly?')"
            ]
          },
          "metadata": {},
          "execution_count": 104
        },
        {
          "output_type": "display_data",
          "data": {
            "text/plain": [
              "<Figure size 432x288 with 1 Axes>"
            ],
            "image/png": "[encoded data removed]"
          },
          "metadata": {
            "needs_background": "light"
          }
        }
      ]
    },
    {
      "cell_type": "code",
      "source": [
        "ax = sns.countplot(data = Customers , palette = 'muted', x = 'Experience')\n",
        "plt.title('Customer Experience')\n",
        "\n",
        "for p in ax.patches:\n",
        "    percentage = '{:.1f}%'.format(100 * p.get_height()/total)\n",
        "    x = p.get_x() + p.get_width()\n",
        "    y = p.get_height()\n",
        "    ax.annotate(percentage, (x, y),ha='center')\n",
        "\n",
        "plt.show()"
      ],
      "metadata": {
        "colab": {
          "base_uri": "https://localhost:8080/",
          "height": 295
        },
        "id": "qvq2tq0uSjgB",
        "outputId": "e550049b-20db-4934-ef72-45510eaa9f17"
      },
      "execution_count": null,
      "outputs": [
        {
          "output_type": "display_data",
          "data": {
            "text/plain": [
              "<Figure size 432x288 with 1 Axes>"
            ],
            "image/png": "[encoded data removed]"
          },
          "metadata": {
            "needs_background": "light"
          }
        }
      ]
    },
    {
      "cell_type": "code",
      "source": [
        "sns.violinplot(data = Customers , palette = 'muted', y = 'Credit Limit')\n",
        "ax.set_ylim(1, 10000)\n",
        "plt.title('Credit Limit')"
      ],
      "metadata": {
        "colab": {
          "base_uri": "https://localhost:8080/",
          "height": 286
        },
        "id": "mNqN8vnBSjcs",
        "outputId": "582de40d-4f8a-4115-beb6-8cf4317adddc"
      },
      "execution_count": null,
      "outputs": [
        {
          "output_type": "execute_result",
          "data": {
            "text/plain": [
              "Text(0.5, 1.0, 'Credit Limit')"
            ]
          },
          "metadata": {},
          "execution_count": 92
        },
        {
          "output_type": "display_data",
          "data": {
            "text/plain": [
              "<Figure size 432x288 with 1 Axes>"
            ],
            "image/png": "[encoded data removed]"
          },
          "metadata": {
            "needs_background": "light"
          }
        }
      ]
    },
    {
      "cell_type": "code",
      "source": [
        "ax = sns.histplot(data = Customers , x = 'Credit Limit', kde = True )\n",
        "ax.set_xlim(1, 20000)\n",
        "plt.title('Credit Limit')"
      ],
      "metadata": {
        "colab": {
          "base_uri": "https://localhost:8080/",
          "height": 313
        },
        "id": "dvTd9PI3O1iU",
        "outputId": "e139d288-193c-47bc-8964-e2c428b51703"
      },
      "execution_count": null,
      "outputs": [
        {
          "output_type": "execute_result",
          "data": {
            "text/plain": [
              "Text(0.5, 1.0, 'Credit Limit')"
            ]
          },
          "metadata": {},
          "execution_count": 88
        },
        {
          "output_type": "display_data",
          "data": {
            "text/plain": [
              "<Figure size 432x288 with 1 Axes>"
            ],
            "image/png": "[encoded data removed]"
          },
          "metadata": {
            "needs_background": "light"
          }
        }
      ]
    },
    {
      "cell_type": "code",
      "source": [
        "Customers[['buying_reason_1', 'buying_reason_2',\n",
        "       'buying_reason_3', 'buying_reason_4']].stack().value_counts().plot(kind = 'bar')"
      ],
      "metadata": {
        "colab": {
          "base_uri": "https://localhost:8080/",
          "height": 559
        },
        "id": "fI14oQzqSjZC",
        "outputId": "d1194247-97e5-4702-deba-5e605a54d55c"
      },
      "execution_count": null,
      "outputs": [
        {
          "output_type": "error",
          "ename": "TypeError",
          "evalue": "ignored",
          "traceback": [
            "\u001b[0;31m---------------------------------------------------------------------------\u001b[0m",
            "\u001b[0;31mTypeError\u001b[0m                                 Traceback (most recent call last)",
            "\u001b[0;32m<ipython-input-105-60602deb967b>\u001b[0m in \u001b[0;36m<module>\u001b[0;34m\u001b[0m\n\u001b[1;32m      2\u001b[0m        'buying_reason_3', 'buying_reason_4']].stack().value_counts().plot(kind = 'bar')\n\u001b[1;32m      3\u001b[0m \u001b[0;34m\u001b[0m\u001b[0m\n\u001b[0;32m----> 4\u001b[0;31m \u001b[0;32mfor\u001b[0m \u001b[0mrect1\u001b[0m \u001b[0;32min\u001b[0m \u001b[0mp1\u001b[0m\u001b[0;34m:\u001b[0m\u001b[0;34m\u001b[0m\u001b[0;34m\u001b[0m\u001b[0m\n\u001b[0m\u001b[1;32m      5\u001b[0m     \u001b[0mheight\u001b[0m \u001b[0;34m=\u001b[0m \u001b[0mrect1\u001b[0m\u001b[0;34m.\u001b[0m\u001b[0mget_height\u001b[0m\u001b[0;34m(\u001b[0m\u001b[0;34m)\u001b[0m\u001b[0;34m\u001b[0m\u001b[0;34m\u001b[0m\u001b[0m\n\u001b[1;32m      6\u001b[0m     \u001b[0mplt\u001b[0m\u001b[0;34m.\u001b[0m\u001b[0mannotate\u001b[0m\u001b[0;34m(\u001b[0m \u001b[0;34m\"{}%\"\u001b[0m\u001b[0;34m.\u001b[0m\u001b[0mformat\u001b[0m\u001b[0;34m(\u001b[0m\u001b[0mheight\u001b[0m\u001b[0;34m)\u001b[0m\u001b[0;34m,\u001b[0m\u001b[0;34m(\u001b[0m\u001b[0mrect1\u001b[0m\u001b[0;34m.\u001b[0m\u001b[0mget_x\u001b[0m\u001b[0;34m(\u001b[0m\u001b[0;34m)\u001b[0m \u001b[0;34m+\u001b[0m \u001b[0mrect1\u001b[0m\u001b[0;34m.\u001b[0m\u001b[0mget_width\u001b[0m\u001b[0;34m(\u001b[0m\u001b[0;34m)\u001b[0m\u001b[0;34m/\u001b[0m\u001b[0;36m2\u001b[0m\u001b[0;34m,\u001b[0m \u001b[0mheight\u001b[0m\u001b[0;34m+\u001b[0m\u001b[0;36m.05\u001b[0m\u001b[0;34m)\u001b[0m\u001b[0;34m,\u001b[0m\u001b[0mha\u001b[0m\u001b[0;34m=\u001b[0m\u001b[0;34m\"center\"\u001b[0m\u001b[0;34m,\u001b[0m\u001b[0mva\u001b[0m\u001b[0;34m=\u001b[0m\u001b[0;34m\"bottom\"\u001b[0m\u001b[0;34m,\u001b[0m\u001b[0mfontsize\u001b[0m\u001b[0;34m=\u001b[0m\u001b[0;36m15\u001b[0m\u001b[0;34m)\u001b[0m\u001b[0;34m\u001b[0m\u001b[0;34m\u001b[0m\u001b[0m\n",
            "\u001b[0;31mTypeError\u001b[0m: 'AxesSubplot' object is not iterable"
          ]
        },
        {
          "output_type": "display_data",
          "data": {
            "text/plain": [
              "<Figure size 432x288 with 1 Axes>"
            ],
            "image/png": "[encoded data removed]"
          },
          "metadata": {
            "needs_background": "light"
          }
        }
      ]
    },
    {
      "cell_type": "code",
      "source": [
        "p1 = Customers[['buying_reason_1', 'buying_reason_2',\n",
        "       'buying_reason_3', 'buying_reason_4']].stack().value_counts()\n",
        "\n",
        "per = (p1/ sum(p1)) * 100\n",
        "\n",
        "per\n"
      ],
      "metadata": {
        "colab": {
          "base_uri": "https://localhost:8080/"
        },
        "id": "oFPV63W7XleU",
        "outputId": "8134993d-62c9-4fa0-fbdd-3c31c9d3da6e"
      },
      "execution_count": null,
      "outputs": [
        {
          "output_type": "execute_result",
          "data": {
            "text/plain": [
              "Discount          34.969325\n",
              "Insurance         20.552147\n",
              "Credit_System     15.720859\n",
              "Good Quality      13.496933\n",
              "Time Saving       10.352761\n",
              "Factory Shop       3.757669\n",
              "Good Behaviour     1.150307\n",
              "dtype: float64"
            ]
          },
          "metadata": {},
          "execution_count": 112
        }
      ]
    },
    {
      "cell_type": "code",
      "source": [
        "Customers[['Knowledge_1', 'Knowledge_2',\n",
        "       'Knowledge_3', 'Knowledge_4', 'Knowledge_5']].stack().value_counts().plot(kind = 'barh')"
      ],
      "metadata": {
        "colab": {
          "base_uri": "https://localhost:8080/",
          "height": 283
        },
        "id": "DlLuaC-tL4C8",
        "outputId": "b0ace07f-4199-49e0-c3af-3990763ca0ca"
      },
      "execution_count": null,
      "outputs": [
        {
          "output_type": "execute_result",
          "data": {
            "text/plain": [
              "<matplotlib.axes._subplots.AxesSubplot at 0x7f829a4750a0>"
            ]
          },
          "metadata": {},
          "execution_count": 115
        },
        {
          "output_type": "display_data",
          "data": {
            "text/plain": [
              "<Figure size 432x288 with 1 Axes>"
            ],
            "image/png": "[encoded data removed]"
          },
          "metadata": {
            "needs_background": "light"
          }
        }
      ]
    },
    {
      "cell_type": "code",
      "source": [
        "p1 = Customers[['Knowledge_1', 'Knowledge_2',\n",
        "       'Knowledge_3', 'Knowledge_4', 'Knowledge_5']].stack().value_counts()\n",
        "\n",
        "per = (p1/ sum(p1)) * 100\n",
        "\n",
        "per"
      ],
      "metadata": {
        "colab": {
          "base_uri": "https://localhost:8080/"
        },
        "id": "Rhbd3Xz4ePg7",
        "outputId": "d7a14c14-ae47-4f74-f8a0-359b9c3f8008"
      },
      "execution_count": null,
      "outputs": [
        {
          "output_type": "execute_result",
          "data": {
            "text/plain": [
              "Credit System              23.376623\n",
              "Daily Necessities Shop     22.832007\n",
              "Insurance                  20.276498\n",
              "Discount Shop              17.553414\n",
              "Shop within the Factory    15.961458\n",
              "dtype: float64"
            ]
          },
          "metadata": {},
          "execution_count": 114
        }
      ]
    },
    {
      "cell_type": "code",
      "source": [
        "Customers[['product_list_1',\n",
        "       'product_list_2', 'product_list_3', 'product_list_4', 'product_list_5']].stack().value_counts().plot(kind = 'bar')"
      ],
      "metadata": {
        "colab": {
          "base_uri": "https://localhost:8080/",
          "height": 367
        },
        "id": "ld0lpAVVL38b",
        "outputId": "637ead39-c09e-446e-801b-9e78cce4550f"
      },
      "execution_count": null,
      "outputs": [
        {
          "output_type": "execute_result",
          "data": {
            "text/plain": [
              "<matplotlib.axes._subplots.AxesSubplot at 0x7f82ea52ec10>"
            ]
          },
          "metadata": {},
          "execution_count": 58
        },
        {
          "output_type": "display_data",
          "data": {
            "text/plain": [
              "<Figure size 432x288 with 1 Axes>"
            ],
            "image/png": "[encoded data removed]"
          },
          "metadata": {
            "needs_background": "light"
          }
        }
      ]
    },
    {
      "cell_type": "code",
      "source": [
        "p1 = Customers[['product_list_1',\n",
        "       'product_list_2', 'product_list_3', 'product_list_4', 'product_list_5']].stack().value_counts()\n",
        "\n",
        "per = (p1/ sum(p1)) * 100\n",
        "\n",
        "per"
      ],
      "metadata": {
        "colab": {
          "base_uri": "https://localhost:8080/"
        },
        "id": "XSM8yMz1iIfx",
        "outputId": "2f6eb124-ca8a-44d3-f0bf-945bd1d2a307"
      },
      "execution_count": null,
      "outputs": [
        {
          "output_type": "execute_result",
          "data": {
            "text/plain": [
              "Food                 34.121977\n",
              "Beauty and Health    23.238696\n",
              "Baby Essentials      22.818086\n",
              "Perishables           9.305994\n",
              "Lifestyle             8.254469\n",
              "Office_Products       2.260778\n",
              "dtype: float64"
            ]
          },
          "metadata": {},
          "execution_count": 116
        }
      ]
    },
    {
      "cell_type": "markdown",
      "source": [
        "\n",
        "\n",
        "> Not Customer Data Analysis\n",
        "\n",
        "\n",
        "\n"
      ],
      "metadata": {
        "id": "3ztsDyv5WQnJ"
      }
    },
    {
      "cell_type": "code",
      "source": [
        "Not_customers.columns"
      ],
      "metadata": {
        "colab": {
          "base_uri": "https://localhost:8080/"
        },
        "id": "IRB8D0ClWPbM",
        "outputId": "f11ba675-99d2-4bbe-e6b5-d6adfa494b4f"
      },
      "execution_count": null,
      "outputs": [
        {
          "output_type": "execute_result",
          "data": {
            "text/plain": [
              "Index(['no_shop_reason_1', 'no_shop_reason_2', 'no_shop_reason_3',\n",
              "       'no_shop_reason_7', 'no_shop_reason_8', 'no_shop_reason_9',\n",
              "       'shop_from_1', 'shop_from_2', 'shop_from_3', 'shop_from_7',\n",
              "       'shop_from_8', 'shop_from_9', 'shop_from_10'],\n",
              "      dtype='object')"
            ]
          },
          "metadata": {},
          "execution_count": 59
        }
      ]
    },
    {
      "cell_type": "code",
      "source": [
        "Not_customers[['no_shop_reason_1', 'no_shop_reason_2', 'no_shop_reason_3',\n",
        "       'no_shop_reason_7', 'no_shop_reason_8', 'no_shop_reason_9']].stack().value_counts().plot(kind = 'bar')"
      ],
      "metadata": {
        "colab": {
          "base_uri": "https://localhost:8080/",
          "height": 524
        },
        "id": "VZ34sn7qWQL4",
        "outputId": "aff29d96-9dd6-458e-85a0-6143b08ac254"
      },
      "execution_count": null,
      "outputs": [
        {
          "output_type": "execute_result",
          "data": {
            "text/plain": [
              "<matplotlib.axes._subplots.AxesSubplot at 0x7f82ea838cd0>"
            ]
          },
          "metadata": {},
          "execution_count": 60
        },
        {
          "output_type": "display_data",
          "data": {
            "text/plain": [
              "<Figure size 432x288 with 1 Axes>"
            ],
            "image/png": "[encoded data removed]"
          },
          "metadata": {
            "needs_background": "light"
          }
        }
      ]
    },
    {
      "cell_type": "code",
      "source": [
        "p1 = Not_customers[['no_shop_reason_1', 'no_shop_reason_2', 'no_shop_reason_3',\n",
        "       'no_shop_reason_7', 'no_shop_reason_8', 'no_shop_reason_9']].stack().value_counts()\n",
        "\n",
        "per = (p1/ sum(p1)) * 100\n",
        "\n",
        "per"
      ],
      "metadata": {
        "colab": {
          "base_uri": "https://localhost:8080/"
        },
        "id": "6L_rTauVlYyV",
        "outputId": "61cd3b28-3003-4787-83cf-4d17c8768b3c"
      },
      "execution_count": null,
      "outputs": [
        {
          "output_type": "execute_result",
          "data": {
            "text/plain": [
              "Low Inventory                                     34.336283\n",
              "Far From Home                                     19.292035\n",
              "Others                                            17.522124\n",
              "Expensive                                         13.274336\n",
              "Low Limit                                          8.849558\n",
              "Previously Known Shop and Home Delivery Option     4.601770\n",
              "Not Familiar                                       2.123894\n",
              "dtype: float64"
            ]
          },
          "metadata": {},
          "execution_count": 118
        }
      ]
    },
    {
      "cell_type": "code",
      "source": [
        "Not_customers[['shop_from_1', 'shop_from_2', 'shop_from_3', 'shop_from_7',\n",
        "       'shop_from_8', 'shop_from_9', 'shop_from_10']].stack().value_counts().plot(kind = 'bar')"
      ],
      "metadata": {
        "colab": {
          "base_uri": "https://localhost:8080/",
          "height": 389
        },
        "id": "cyS5tzOZWQIf",
        "outputId": "7bd03d3e-1424-46dd-a96b-1948fcbb210d"
      },
      "execution_count": null,
      "outputs": [
        {
          "output_type": "execute_result",
          "data": {
            "text/plain": [
              "<matplotlib.axes._subplots.AxesSubplot at 0x7f82ea8f2c40>"
            ]
          },
          "metadata": {},
          "execution_count": 61
        },
        {
          "output_type": "display_data",
          "data": {
            "text/plain": [
              "<Figure size 432x288 with 1 Axes>"
            ],
            "image/png": "[encoded data removed]"
          },
          "metadata": {
            "needs_background": "light"
          }
        }
      ]
    },
    {
      "cell_type": "code",
      "source": [
        "p1 = Not_customers[['shop_from_1', 'shop_from_2', 'shop_from_3', 'shop_from_7',\n",
        "       'shop_from_8', 'shop_from_9', 'shop_from_10']].stack().value_counts()\n",
        "\n",
        "per = (p1/ sum(p1)) * 100\n",
        "\n",
        "per"
      ],
      "metadata": {
        "colab": {
          "base_uri": "https://localhost:8080/"
        },
        "id": "4bjHl7Fclf8L",
        "outputId": "2f8792a3-5bb7-4cd8-f149-7c575c65d747"
      },
      "execution_count": null,
      "outputs": [
        {
          "output_type": "execute_result",
          "data": {
            "text/plain": [
              "Previously Known Shop    34.198473\n",
              "Credit Shop              20.458015\n",
              "Discount Shop            19.389313\n",
              "Others                   14.351145\n",
              "Shop Next to Factory      3.664122\n",
              "I dont Shop               3.053435\n",
              "Someone Else Shops        2.595420\n",
              "No need to shop           2.290076\n",
              "dtype: float64"
            ]
          },
          "metadata": {},
          "execution_count": 119
        }
      ]
    },
    {
      "cell_type": "code",
      "source": [],
      "metadata": {
        "id": "yyp0Bhb0WPXN"
      },
      "execution_count": null,
      "outputs": []
    },
    {
      "cell_type": "code",
      "source": [],
      "metadata": {
        "id": "U-ARGRToWPSw"
      },
      "execution_count": null,
      "outputs": []
    },
    {
      "cell_type": "code",
      "source": [],
      "metadata": {
        "id": "998_ZOU5WPO1"
      },
      "execution_count": null,
      "outputs": []
    },
    {
      "cell_type": "code",
      "source": [],
      "metadata": {
        "id": "TDvinfUeWPKp"
      },
      "execution_count": null,
      "outputs": []
    },
    {
      "cell_type": "code",
      "source": [],
      "metadata": {
        "id": "Bp1s1H0KWPGG"
      },
      "execution_count": null,
      "outputs": []
    }
  ]
}